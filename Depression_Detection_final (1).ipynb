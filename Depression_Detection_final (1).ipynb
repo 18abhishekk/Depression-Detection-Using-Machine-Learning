{
  "cells": [
    {
      "cell_type": "code",
      "execution_count": null,
      "id": "bf872e39",
      "metadata": {
        "id": "bf872e39",
        "colab": {
          "base_uri": "https://localhost:8080/"
        },
        "outputId": "d53b92bd-358a-4826-dae6-40b6315bdc29"
      },
      "outputs": [
        {
          "output_type": "stream",
          "name": "stdout",
          "text": [
            "Hello\n"
          ]
        }
      ],
      "source": [
        "import pandas as pd \n",
        "import numpy as np \n",
        "import seaborn as sns \n",
        "import matplotlib.pyplot as plt\n",
        "print(\"Hello\")"
      ]
    },
    {
      "cell_type": "code",
      "execution_count": null,
      "id": "3533c22f",
      "metadata": {
        "id": "3533c22f",
        "colab": {
          "base_uri": "https://localhost:8080/"
        },
        "outputId": "a8393b56-5c49-40f8-f79c-9db8f44b9a93"
      },
      "outputs": [
        {
          "output_type": "stream",
          "name": "stdout",
          "text": [
            "done\n"
          ]
        }
      ],
      "source": [
        "depression = pd.read_csv(\"/content/sample_data/Mental-Health-Twitter.csv\")\n",
        "df = depression.copy()\n",
        "print(\"done\")"
      ]
    },
    {
      "cell_type": "code",
      "execution_count": null,
      "id": "5a469803",
      "metadata": {
        "id": "5a469803",
        "colab": {
          "base_uri": "https://localhost:8080/",
          "height": 389
        },
        "outputId": "6379f0c9-9214-4e53-fa44-ef8e091627ce"
      },
      "outputs": [
        {
          "output_type": "execute_result",
          "data": {
            "text/plain": [
              "   Unnamed: 0             post_id                    post_created  \\\n",
              "0           0  637894677824413696  Sun Aug 30 07:48:37 +0000 2015   \n",
              "1           1  637890384576778240  Sun Aug 30 07:31:33 +0000 2015   \n",
              "2           2  637749345908051968  Sat Aug 29 22:11:07 +0000 2015   \n",
              "3           3  637696421077123073  Sat Aug 29 18:40:49 +0000 2015   \n",
              "4           4  637696327485366272  Sat Aug 29 18:40:26 +0000 2015   \n",
              "\n",
              "                                           post_text     user_id  followers  \\\n",
              "0  It's just over 2 years since I was diagnosed w...  1013187241         84   \n",
              "1  It's Sunday, I need a break, so I'm planning t...  1013187241         84   \n",
              "2  Awake but tired. I need to sleep but my brain ...  1013187241         84   \n",
              "3  RT @SewHQ: #Retro bears make perfect gifts and...  1013187241         84   \n",
              "4  It’s hard to say whether packing lists are mak...  1013187241         84   \n",
              "\n",
              "   friends  favourites  statuses  retweets  label  \n",
              "0      211         251       837         0      1  \n",
              "1      211         251       837         1      1  \n",
              "2      211         251       837         0      1  \n",
              "3      211         251       837         2      1  \n",
              "4      211         251       837         1      1  "
            ],
            "text/html": [
              "\n",
              "  <div id=\"df-b8137ddd-e95b-4af0-9af5-c3afd7a95422\">\n",
              "    <div class=\"colab-df-container\">\n",
              "      <div>\n",
              "<style scoped>\n",
              "    .dataframe tbody tr th:only-of-type {\n",
              "        vertical-align: middle;\n",
              "    }\n",
              "\n",
              "    .dataframe tbody tr th {\n",
              "        vertical-align: top;\n",
              "    }\n",
              "\n",
              "    .dataframe thead th {\n",
              "        text-align: right;\n",
              "    }\n",
              "</style>\n",
              "<table border=\"1\" class=\"dataframe\">\n",
              "  <thead>\n",
              "    <tr style=\"text-align: right;\">\n",
              "      <th></th>\n",
              "      <th>Unnamed: 0</th>\n",
              "      <th>post_id</th>\n",
              "      <th>post_created</th>\n",
              "      <th>post_text</th>\n",
              "      <th>user_id</th>\n",
              "      <th>followers</th>\n",
              "      <th>friends</th>\n",
              "      <th>favourites</th>\n",
              "      <th>statuses</th>\n",
              "      <th>retweets</th>\n",
              "      <th>label</th>\n",
              "    </tr>\n",
              "  </thead>\n",
              "  <tbody>\n",
              "    <tr>\n",
              "      <th>0</th>\n",
              "      <td>0</td>\n",
              "      <td>637894677824413696</td>\n",
              "      <td>Sun Aug 30 07:48:37 +0000 2015</td>\n",
              "      <td>It's just over 2 years since I was diagnosed w...</td>\n",
              "      <td>1013187241</td>\n",
              "      <td>84</td>\n",
              "      <td>211</td>\n",
              "      <td>251</td>\n",
              "      <td>837</td>\n",
              "      <td>0</td>\n",
              "      <td>1</td>\n",
              "    </tr>\n",
              "    <tr>\n",
              "      <th>1</th>\n",
              "      <td>1</td>\n",
              "      <td>637890384576778240</td>\n",
              "      <td>Sun Aug 30 07:31:33 +0000 2015</td>\n",
              "      <td>It's Sunday, I need a break, so I'm planning t...</td>\n",
              "      <td>1013187241</td>\n",
              "      <td>84</td>\n",
              "      <td>211</td>\n",
              "      <td>251</td>\n",
              "      <td>837</td>\n",
              "      <td>1</td>\n",
              "      <td>1</td>\n",
              "    </tr>\n",
              "    <tr>\n",
              "      <th>2</th>\n",
              "      <td>2</td>\n",
              "      <td>637749345908051968</td>\n",
              "      <td>Sat Aug 29 22:11:07 +0000 2015</td>\n",
              "      <td>Awake but tired. I need to sleep but my brain ...</td>\n",
              "      <td>1013187241</td>\n",
              "      <td>84</td>\n",
              "      <td>211</td>\n",
              "      <td>251</td>\n",
              "      <td>837</td>\n",
              "      <td>0</td>\n",
              "      <td>1</td>\n",
              "    </tr>\n",
              "    <tr>\n",
              "      <th>3</th>\n",
              "      <td>3</td>\n",
              "      <td>637696421077123073</td>\n",
              "      <td>Sat Aug 29 18:40:49 +0000 2015</td>\n",
              "      <td>RT @SewHQ: #Retro bears make perfect gifts and...</td>\n",
              "      <td>1013187241</td>\n",
              "      <td>84</td>\n",
              "      <td>211</td>\n",
              "      <td>251</td>\n",
              "      <td>837</td>\n",
              "      <td>2</td>\n",
              "      <td>1</td>\n",
              "    </tr>\n",
              "    <tr>\n",
              "      <th>4</th>\n",
              "      <td>4</td>\n",
              "      <td>637696327485366272</td>\n",
              "      <td>Sat Aug 29 18:40:26 +0000 2015</td>\n",
              "      <td>It’s hard to say whether packing lists are mak...</td>\n",
              "      <td>1013187241</td>\n",
              "      <td>84</td>\n",
              "      <td>211</td>\n",
              "      <td>251</td>\n",
              "      <td>837</td>\n",
              "      <td>1</td>\n",
              "      <td>1</td>\n",
              "    </tr>\n",
              "  </tbody>\n",
              "</table>\n",
              "</div>\n",
              "      <button class=\"colab-df-convert\" onclick=\"convertToInteractive('df-b8137ddd-e95b-4af0-9af5-c3afd7a95422')\"\n",
              "              title=\"Convert this dataframe to an interactive table.\"\n",
              "              style=\"display:none;\">\n",
              "        \n",
              "  <svg xmlns=\"http://www.w3.org/2000/svg\" height=\"24px\"viewBox=\"0 0 24 24\"\n",
              "       width=\"24px\">\n",
              "    <path d=\"M0 0h24v24H0V0z\" fill=\"none\"/>\n",
              "    <path d=\"M18.56 5.44l.94 2.06.94-2.06 2.06-.94-2.06-.94-.94-2.06-.94 2.06-2.06.94zm-11 1L8.5 8.5l.94-2.06 2.06-.94-2.06-.94L8.5 2.5l-.94 2.06-2.06.94zm10 10l.94 2.06.94-2.06 2.06-.94-2.06-.94-.94-2.06-.94 2.06-2.06.94z\"/><path d=\"M17.41 7.96l-1.37-1.37c-.4-.4-.92-.59-1.43-.59-.52 0-1.04.2-1.43.59L10.3 9.45l-7.72 7.72c-.78.78-.78 2.05 0 2.83L4 21.41c.39.39.9.59 1.41.59.51 0 1.02-.2 1.41-.59l7.78-7.78 2.81-2.81c.8-.78.8-2.07 0-2.86zM5.41 20L4 18.59l7.72-7.72 1.47 1.35L5.41 20z\"/>\n",
              "  </svg>\n",
              "      </button>\n",
              "      \n",
              "  <style>\n",
              "    .colab-df-container {\n",
              "      display:flex;\n",
              "      flex-wrap:wrap;\n",
              "      gap: 12px;\n",
              "    }\n",
              "\n",
              "    .colab-df-convert {\n",
              "      background-color: #E8F0FE;\n",
              "      border: none;\n",
              "      border-radius: 50%;\n",
              "      cursor: pointer;\n",
              "      display: none;\n",
              "      fill: #1967D2;\n",
              "      height: 32px;\n",
              "      padding: 0 0 0 0;\n",
              "      width: 32px;\n",
              "    }\n",
              "\n",
              "    .colab-df-convert:hover {\n",
              "      background-color: #E2EBFA;\n",
              "      box-shadow: 0px 1px 2px rgba(60, 64, 67, 0.3), 0px 1px 3px 1px rgba(60, 64, 67, 0.15);\n",
              "      fill: #174EA6;\n",
              "    }\n",
              "\n",
              "    [theme=dark] .colab-df-convert {\n",
              "      background-color: #3B4455;\n",
              "      fill: #D2E3FC;\n",
              "    }\n",
              "\n",
              "    [theme=dark] .colab-df-convert:hover {\n",
              "      background-color: #434B5C;\n",
              "      box-shadow: 0px 1px 3px 1px rgba(0, 0, 0, 0.15);\n",
              "      filter: drop-shadow(0px 1px 2px rgba(0, 0, 0, 0.3));\n",
              "      fill: #FFFFFF;\n",
              "    }\n",
              "  </style>\n",
              "\n",
              "      <script>\n",
              "        const buttonEl =\n",
              "          document.querySelector('#df-b8137ddd-e95b-4af0-9af5-c3afd7a95422 button.colab-df-convert');\n",
              "        buttonEl.style.display =\n",
              "          google.colab.kernel.accessAllowed ? 'block' : 'none';\n",
              "\n",
              "        async function convertToInteractive(key) {\n",
              "          const element = document.querySelector('#df-b8137ddd-e95b-4af0-9af5-c3afd7a95422');\n",
              "          const dataTable =\n",
              "            await google.colab.kernel.invokeFunction('convertToInteractive',\n",
              "                                                     [key], {});\n",
              "          if (!dataTable) return;\n",
              "\n",
              "          const docLinkHtml = 'Like what you see? Visit the ' +\n",
              "            '<a target=\"_blank\" href=https://colab.research.google.com/notebooks/data_table.ipynb>data table notebook</a>'\n",
              "            + ' to learn more about interactive tables.';\n",
              "          element.innerHTML = '';\n",
              "          dataTable['output_type'] = 'display_data';\n",
              "          await google.colab.output.renderOutput(dataTable, element);\n",
              "          const docLink = document.createElement('div');\n",
              "          docLink.innerHTML = docLinkHtml;\n",
              "          element.appendChild(docLink);\n",
              "        }\n",
              "      </script>\n",
              "    </div>\n",
              "  </div>\n",
              "  "
            ]
          },
          "metadata": {},
          "execution_count": 3
        }
      ],
      "source": [
        "df.head()"
      ]
    },
    {
      "cell_type": "code",
      "execution_count": null,
      "id": "a37d9cb9",
      "metadata": {
        "scrolled": true,
        "id": "a37d9cb9",
        "colab": {
          "base_uri": "https://localhost:8080/"
        },
        "outputId": "9eac0c88-ca22-4c24-f451-0e99c7c81d40"
      },
      "outputs": [
        {
          "output_type": "stream",
          "name": "stdout",
          "text": [
            "<class 'pandas.core.frame.DataFrame'>\n",
            "RangeIndex: 20000 entries, 0 to 19999\n",
            "Data columns (total 11 columns):\n",
            " #   Column        Non-Null Count  Dtype \n",
            "---  ------        --------------  ----- \n",
            " 0   Unnamed: 0    20000 non-null  int64 \n",
            " 1   post_id       20000 non-null  int64 \n",
            " 2   post_created  20000 non-null  object\n",
            " 3   post_text     20000 non-null  object\n",
            " 4   user_id       20000 non-null  int64 \n",
            " 5   followers     20000 non-null  int64 \n",
            " 6   friends       20000 non-null  int64 \n",
            " 7   favourites    20000 non-null  int64 \n",
            " 8   statuses      20000 non-null  int64 \n",
            " 9   retweets      20000 non-null  int64 \n",
            " 10  label         20000 non-null  int64 \n",
            "dtypes: int64(9), object(2)\n",
            "memory usage: 1.7+ MB\n"
          ]
        }
      ],
      "source": [
        "df.info()"
      ]
    },
    {
      "cell_type": "code",
      "execution_count": null,
      "id": "8200be0e",
      "metadata": {
        "id": "8200be0e",
        "colab": {
          "base_uri": "https://localhost:8080/"
        },
        "outputId": "85542fbb-9527-4ee9-f770-1fd8d93489c5"
      },
      "outputs": [
        {
          "output_type": "execute_result",
          "data": {
            "text/plain": [
              "Unnamed: 0      False\n",
              "post_id         False\n",
              "post_created    False\n",
              "post_text       False\n",
              "user_id         False\n",
              "followers       False\n",
              "friends         False\n",
              "favourites      False\n",
              "statuses        False\n",
              "retweets        False\n",
              "label           False\n",
              "dtype: bool"
            ]
          },
          "metadata": {},
          "execution_count": 5
        }
      ],
      "source": [
        "#CHECKING NAN VALUES\n",
        "df.isna().any()"
      ]
    },
    {
      "cell_type": "code",
      "execution_count": null,
      "id": "4cdb62bb",
      "metadata": {
        "id": "4cdb62bb"
      },
      "outputs": [],
      "source": [
        "#Removing the 3 columns\n",
        "df.drop(\"Unnamed: 0\", axis=1, inplace=True)\n",
        "df.drop(\"post_id\", axis=1, inplace=True)\n",
        "df.drop(\"user_id\", axis=1, inplace=True)"
      ]
    },
    {
      "cell_type": "code",
      "execution_count": null,
      "id": "d03c9950",
      "metadata": {
        "id": "d03c9950",
        "colab": {
          "base_uri": "https://localhost:8080/",
          "height": 206
        },
        "outputId": "3a0e27ae-430a-4f82-a7ef-f18b9855c697"
      },
      "outputs": [
        {
          "output_type": "execute_result",
          "data": {
            "text/plain": [
              "                     post_created  \\\n",
              "0  Sun Aug 30 07:48:37 +0000 2015   \n",
              "1  Sun Aug 30 07:31:33 +0000 2015   \n",
              "2  Sat Aug 29 22:11:07 +0000 2015   \n",
              "3  Sat Aug 29 18:40:49 +0000 2015   \n",
              "4  Sat Aug 29 18:40:26 +0000 2015   \n",
              "\n",
              "                                           post_text  followers  friends  \\\n",
              "0  It's just over 2 years since I was diagnosed w...         84      211   \n",
              "1  It's Sunday, I need a break, so I'm planning t...         84      211   \n",
              "2  Awake but tired. I need to sleep but my brain ...         84      211   \n",
              "3  RT @SewHQ: #Retro bears make perfect gifts and...         84      211   \n",
              "4  It’s hard to say whether packing lists are mak...         84      211   \n",
              "\n",
              "   favourites  statuses  retweets  label  \n",
              "0         251       837         0      1  \n",
              "1         251       837         1      1  \n",
              "2         251       837         0      1  \n",
              "3         251       837         2      1  \n",
              "4         251       837         1      1  "
            ],
            "text/html": [
              "\n",
              "  <div id=\"df-e401b298-417d-472a-9a15-58f181a8dae1\">\n",
              "    <div class=\"colab-df-container\">\n",
              "      <div>\n",
              "<style scoped>\n",
              "    .dataframe tbody tr th:only-of-type {\n",
              "        vertical-align: middle;\n",
              "    }\n",
              "\n",
              "    .dataframe tbody tr th {\n",
              "        vertical-align: top;\n",
              "    }\n",
              "\n",
              "    .dataframe thead th {\n",
              "        text-align: right;\n",
              "    }\n",
              "</style>\n",
              "<table border=\"1\" class=\"dataframe\">\n",
              "  <thead>\n",
              "    <tr style=\"text-align: right;\">\n",
              "      <th></th>\n",
              "      <th>post_created</th>\n",
              "      <th>post_text</th>\n",
              "      <th>followers</th>\n",
              "      <th>friends</th>\n",
              "      <th>favourites</th>\n",
              "      <th>statuses</th>\n",
              "      <th>retweets</th>\n",
              "      <th>label</th>\n",
              "    </tr>\n",
              "  </thead>\n",
              "  <tbody>\n",
              "    <tr>\n",
              "      <th>0</th>\n",
              "      <td>Sun Aug 30 07:48:37 +0000 2015</td>\n",
              "      <td>It's just over 2 years since I was diagnosed w...</td>\n",
              "      <td>84</td>\n",
              "      <td>211</td>\n",
              "      <td>251</td>\n",
              "      <td>837</td>\n",
              "      <td>0</td>\n",
              "      <td>1</td>\n",
              "    </tr>\n",
              "    <tr>\n",
              "      <th>1</th>\n",
              "      <td>Sun Aug 30 07:31:33 +0000 2015</td>\n",
              "      <td>It's Sunday, I need a break, so I'm planning t...</td>\n",
              "      <td>84</td>\n",
              "      <td>211</td>\n",
              "      <td>251</td>\n",
              "      <td>837</td>\n",
              "      <td>1</td>\n",
              "      <td>1</td>\n",
              "    </tr>\n",
              "    <tr>\n",
              "      <th>2</th>\n",
              "      <td>Sat Aug 29 22:11:07 +0000 2015</td>\n",
              "      <td>Awake but tired. I need to sleep but my brain ...</td>\n",
              "      <td>84</td>\n",
              "      <td>211</td>\n",
              "      <td>251</td>\n",
              "      <td>837</td>\n",
              "      <td>0</td>\n",
              "      <td>1</td>\n",
              "    </tr>\n",
              "    <tr>\n",
              "      <th>3</th>\n",
              "      <td>Sat Aug 29 18:40:49 +0000 2015</td>\n",
              "      <td>RT @SewHQ: #Retro bears make perfect gifts and...</td>\n",
              "      <td>84</td>\n",
              "      <td>211</td>\n",
              "      <td>251</td>\n",
              "      <td>837</td>\n",
              "      <td>2</td>\n",
              "      <td>1</td>\n",
              "    </tr>\n",
              "    <tr>\n",
              "      <th>4</th>\n",
              "      <td>Sat Aug 29 18:40:26 +0000 2015</td>\n",
              "      <td>It’s hard to say whether packing lists are mak...</td>\n",
              "      <td>84</td>\n",
              "      <td>211</td>\n",
              "      <td>251</td>\n",
              "      <td>837</td>\n",
              "      <td>1</td>\n",
              "      <td>1</td>\n",
              "    </tr>\n",
              "  </tbody>\n",
              "</table>\n",
              "</div>\n",
              "      <button class=\"colab-df-convert\" onclick=\"convertToInteractive('df-e401b298-417d-472a-9a15-58f181a8dae1')\"\n",
              "              title=\"Convert this dataframe to an interactive table.\"\n",
              "              style=\"display:none;\">\n",
              "        \n",
              "  <svg xmlns=\"http://www.w3.org/2000/svg\" height=\"24px\"viewBox=\"0 0 24 24\"\n",
              "       width=\"24px\">\n",
              "    <path d=\"M0 0h24v24H0V0z\" fill=\"none\"/>\n",
              "    <path d=\"M18.56 5.44l.94 2.06.94-2.06 2.06-.94-2.06-.94-.94-2.06-.94 2.06-2.06.94zm-11 1L8.5 8.5l.94-2.06 2.06-.94-2.06-.94L8.5 2.5l-.94 2.06-2.06.94zm10 10l.94 2.06.94-2.06 2.06-.94-2.06-.94-.94-2.06-.94 2.06-2.06.94z\"/><path d=\"M17.41 7.96l-1.37-1.37c-.4-.4-.92-.59-1.43-.59-.52 0-1.04.2-1.43.59L10.3 9.45l-7.72 7.72c-.78.78-.78 2.05 0 2.83L4 21.41c.39.39.9.59 1.41.59.51 0 1.02-.2 1.41-.59l7.78-7.78 2.81-2.81c.8-.78.8-2.07 0-2.86zM5.41 20L4 18.59l7.72-7.72 1.47 1.35L5.41 20z\"/>\n",
              "  </svg>\n",
              "      </button>\n",
              "      \n",
              "  <style>\n",
              "    .colab-df-container {\n",
              "      display:flex;\n",
              "      flex-wrap:wrap;\n",
              "      gap: 12px;\n",
              "    }\n",
              "\n",
              "    .colab-df-convert {\n",
              "      background-color: #E8F0FE;\n",
              "      border: none;\n",
              "      border-radius: 50%;\n",
              "      cursor: pointer;\n",
              "      display: none;\n",
              "      fill: #1967D2;\n",
              "      height: 32px;\n",
              "      padding: 0 0 0 0;\n",
              "      width: 32px;\n",
              "    }\n",
              "\n",
              "    .colab-df-convert:hover {\n",
              "      background-color: #E2EBFA;\n",
              "      box-shadow: 0px 1px 2px rgba(60, 64, 67, 0.3), 0px 1px 3px 1px rgba(60, 64, 67, 0.15);\n",
              "      fill: #174EA6;\n",
              "    }\n",
              "\n",
              "    [theme=dark] .colab-df-convert {\n",
              "      background-color: #3B4455;\n",
              "      fill: #D2E3FC;\n",
              "    }\n",
              "\n",
              "    [theme=dark] .colab-df-convert:hover {\n",
              "      background-color: #434B5C;\n",
              "      box-shadow: 0px 1px 3px 1px rgba(0, 0, 0, 0.15);\n",
              "      filter: drop-shadow(0px 1px 2px rgba(0, 0, 0, 0.3));\n",
              "      fill: #FFFFFF;\n",
              "    }\n",
              "  </style>\n",
              "\n",
              "      <script>\n",
              "        const buttonEl =\n",
              "          document.querySelector('#df-e401b298-417d-472a-9a15-58f181a8dae1 button.colab-df-convert');\n",
              "        buttonEl.style.display =\n",
              "          google.colab.kernel.accessAllowed ? 'block' : 'none';\n",
              "\n",
              "        async function convertToInteractive(key) {\n",
              "          const element = document.querySelector('#df-e401b298-417d-472a-9a15-58f181a8dae1');\n",
              "          const dataTable =\n",
              "            await google.colab.kernel.invokeFunction('convertToInteractive',\n",
              "                                                     [key], {});\n",
              "          if (!dataTable) return;\n",
              "\n",
              "          const docLinkHtml = 'Like what you see? Visit the ' +\n",
              "            '<a target=\"_blank\" href=https://colab.research.google.com/notebooks/data_table.ipynb>data table notebook</a>'\n",
              "            + ' to learn more about interactive tables.';\n",
              "          element.innerHTML = '';\n",
              "          dataTable['output_type'] = 'display_data';\n",
              "          await google.colab.output.renderOutput(dataTable, element);\n",
              "          const docLink = document.createElement('div');\n",
              "          docLink.innerHTML = docLinkHtml;\n",
              "          element.appendChild(docLink);\n",
              "        }\n",
              "      </script>\n",
              "    </div>\n",
              "  </div>\n",
              "  "
            ]
          },
          "metadata": {},
          "execution_count": 7
        }
      ],
      "source": [
        "df.head()\n"
      ]
    },
    {
      "cell_type": "code",
      "execution_count": null,
      "id": "ee6a337d",
      "metadata": {
        "id": "ee6a337d"
      },
      "outputs": [],
      "source": [
        "# df.corr()"
      ]
    },
    {
      "cell_type": "code",
      "execution_count": null,
      "id": "038a04be",
      "metadata": {
        "id": "038a04be"
      },
      "outputs": [],
      "source": [
        "#datetime object\n",
        "df.post_created=df.post_created.apply(pd.to_datetime)\n",
        "\n",
        "df[\"month\"]=df.post_created.dt.month\n",
        "df[\"year\"]=df.post_created.dt.year\n",
        "\n",
        "df.drop(\"post_created\", axis=1, inplace=True)\n"
      ]
    },
    {
      "cell_type": "code",
      "execution_count": null,
      "id": "0cdf34ba",
      "metadata": {
        "id": "0cdf34ba",
        "colab": {
          "base_uri": "https://localhost:8080/",
          "height": 206
        },
        "outputId": "2015d36e-2b59-47ad-a7a2-07df4c173f63"
      },
      "outputs": [
        {
          "output_type": "execute_result",
          "data": {
            "text/plain": [
              "                                           post_text  followers  friends  \\\n",
              "0  It's just over 2 years since I was diagnosed w...         84      211   \n",
              "1  It's Sunday, I need a break, so I'm planning t...         84      211   \n",
              "2  Awake but tired. I need to sleep but my brain ...         84      211   \n",
              "3  RT @SewHQ: #Retro bears make perfect gifts and...         84      211   \n",
              "4  It’s hard to say whether packing lists are mak...         84      211   \n",
              "\n",
              "   favourites  statuses  retweets  label  month  year  \n",
              "0         251       837         0      1      8  2015  \n",
              "1         251       837         1      1      8  2015  \n",
              "2         251       837         0      1      8  2015  \n",
              "3         251       837         2      1      8  2015  \n",
              "4         251       837         1      1      8  2015  "
            ],
            "text/html": [
              "\n",
              "  <div id=\"df-d7254461-57fd-4df9-ade8-aedc6f470d04\">\n",
              "    <div class=\"colab-df-container\">\n",
              "      <div>\n",
              "<style scoped>\n",
              "    .dataframe tbody tr th:only-of-type {\n",
              "        vertical-align: middle;\n",
              "    }\n",
              "\n",
              "    .dataframe tbody tr th {\n",
              "        vertical-align: top;\n",
              "    }\n",
              "\n",
              "    .dataframe thead th {\n",
              "        text-align: right;\n",
              "    }\n",
              "</style>\n",
              "<table border=\"1\" class=\"dataframe\">\n",
              "  <thead>\n",
              "    <tr style=\"text-align: right;\">\n",
              "      <th></th>\n",
              "      <th>post_text</th>\n",
              "      <th>followers</th>\n",
              "      <th>friends</th>\n",
              "      <th>favourites</th>\n",
              "      <th>statuses</th>\n",
              "      <th>retweets</th>\n",
              "      <th>label</th>\n",
              "      <th>month</th>\n",
              "      <th>year</th>\n",
              "    </tr>\n",
              "  </thead>\n",
              "  <tbody>\n",
              "    <tr>\n",
              "      <th>0</th>\n",
              "      <td>It's just over 2 years since I was diagnosed w...</td>\n",
              "      <td>84</td>\n",
              "      <td>211</td>\n",
              "      <td>251</td>\n",
              "      <td>837</td>\n",
              "      <td>0</td>\n",
              "      <td>1</td>\n",
              "      <td>8</td>\n",
              "      <td>2015</td>\n",
              "    </tr>\n",
              "    <tr>\n",
              "      <th>1</th>\n",
              "      <td>It's Sunday, I need a break, so I'm planning t...</td>\n",
              "      <td>84</td>\n",
              "      <td>211</td>\n",
              "      <td>251</td>\n",
              "      <td>837</td>\n",
              "      <td>1</td>\n",
              "      <td>1</td>\n",
              "      <td>8</td>\n",
              "      <td>2015</td>\n",
              "    </tr>\n",
              "    <tr>\n",
              "      <th>2</th>\n",
              "      <td>Awake but tired. I need to sleep but my brain ...</td>\n",
              "      <td>84</td>\n",
              "      <td>211</td>\n",
              "      <td>251</td>\n",
              "      <td>837</td>\n",
              "      <td>0</td>\n",
              "      <td>1</td>\n",
              "      <td>8</td>\n",
              "      <td>2015</td>\n",
              "    </tr>\n",
              "    <tr>\n",
              "      <th>3</th>\n",
              "      <td>RT @SewHQ: #Retro bears make perfect gifts and...</td>\n",
              "      <td>84</td>\n",
              "      <td>211</td>\n",
              "      <td>251</td>\n",
              "      <td>837</td>\n",
              "      <td>2</td>\n",
              "      <td>1</td>\n",
              "      <td>8</td>\n",
              "      <td>2015</td>\n",
              "    </tr>\n",
              "    <tr>\n",
              "      <th>4</th>\n",
              "      <td>It’s hard to say whether packing lists are mak...</td>\n",
              "      <td>84</td>\n",
              "      <td>211</td>\n",
              "      <td>251</td>\n",
              "      <td>837</td>\n",
              "      <td>1</td>\n",
              "      <td>1</td>\n",
              "      <td>8</td>\n",
              "      <td>2015</td>\n",
              "    </tr>\n",
              "  </tbody>\n",
              "</table>\n",
              "</div>\n",
              "      <button class=\"colab-df-convert\" onclick=\"convertToInteractive('df-d7254461-57fd-4df9-ade8-aedc6f470d04')\"\n",
              "              title=\"Convert this dataframe to an interactive table.\"\n",
              "              style=\"display:none;\">\n",
              "        \n",
              "  <svg xmlns=\"http://www.w3.org/2000/svg\" height=\"24px\"viewBox=\"0 0 24 24\"\n",
              "       width=\"24px\">\n",
              "    <path d=\"M0 0h24v24H0V0z\" fill=\"none\"/>\n",
              "    <path d=\"M18.56 5.44l.94 2.06.94-2.06 2.06-.94-2.06-.94-.94-2.06-.94 2.06-2.06.94zm-11 1L8.5 8.5l.94-2.06 2.06-.94-2.06-.94L8.5 2.5l-.94 2.06-2.06.94zm10 10l.94 2.06.94-2.06 2.06-.94-2.06-.94-.94-2.06-.94 2.06-2.06.94z\"/><path d=\"M17.41 7.96l-1.37-1.37c-.4-.4-.92-.59-1.43-.59-.52 0-1.04.2-1.43.59L10.3 9.45l-7.72 7.72c-.78.78-.78 2.05 0 2.83L4 21.41c.39.39.9.59 1.41.59.51 0 1.02-.2 1.41-.59l7.78-7.78 2.81-2.81c.8-.78.8-2.07 0-2.86zM5.41 20L4 18.59l7.72-7.72 1.47 1.35L5.41 20z\"/>\n",
              "  </svg>\n",
              "      </button>\n",
              "      \n",
              "  <style>\n",
              "    .colab-df-container {\n",
              "      display:flex;\n",
              "      flex-wrap:wrap;\n",
              "      gap: 12px;\n",
              "    }\n",
              "\n",
              "    .colab-df-convert {\n",
              "      background-color: #E8F0FE;\n",
              "      border: none;\n",
              "      border-radius: 50%;\n",
              "      cursor: pointer;\n",
              "      display: none;\n",
              "      fill: #1967D2;\n",
              "      height: 32px;\n",
              "      padding: 0 0 0 0;\n",
              "      width: 32px;\n",
              "    }\n",
              "\n",
              "    .colab-df-convert:hover {\n",
              "      background-color: #E2EBFA;\n",
              "      box-shadow: 0px 1px 2px rgba(60, 64, 67, 0.3), 0px 1px 3px 1px rgba(60, 64, 67, 0.15);\n",
              "      fill: #174EA6;\n",
              "    }\n",
              "\n",
              "    [theme=dark] .colab-df-convert {\n",
              "      background-color: #3B4455;\n",
              "      fill: #D2E3FC;\n",
              "    }\n",
              "\n",
              "    [theme=dark] .colab-df-convert:hover {\n",
              "      background-color: #434B5C;\n",
              "      box-shadow: 0px 1px 3px 1px rgba(0, 0, 0, 0.15);\n",
              "      filter: drop-shadow(0px 1px 2px rgba(0, 0, 0, 0.3));\n",
              "      fill: #FFFFFF;\n",
              "    }\n",
              "  </style>\n",
              "\n",
              "      <script>\n",
              "        const buttonEl =\n",
              "          document.querySelector('#df-d7254461-57fd-4df9-ade8-aedc6f470d04 button.colab-df-convert');\n",
              "        buttonEl.style.display =\n",
              "          google.colab.kernel.accessAllowed ? 'block' : 'none';\n",
              "\n",
              "        async function convertToInteractive(key) {\n",
              "          const element = document.querySelector('#df-d7254461-57fd-4df9-ade8-aedc6f470d04');\n",
              "          const dataTable =\n",
              "            await google.colab.kernel.invokeFunction('convertToInteractive',\n",
              "                                                     [key], {});\n",
              "          if (!dataTable) return;\n",
              "\n",
              "          const docLinkHtml = 'Like what you see? Visit the ' +\n",
              "            '<a target=\"_blank\" href=https://colab.research.google.com/notebooks/data_table.ipynb>data table notebook</a>'\n",
              "            + ' to learn more about interactive tables.';\n",
              "          element.innerHTML = '';\n",
              "          dataTable['output_type'] = 'display_data';\n",
              "          await google.colab.output.renderOutput(dataTable, element);\n",
              "          const docLink = document.createElement('div');\n",
              "          docLink.innerHTML = docLinkHtml;\n",
              "          element.appendChild(docLink);\n",
              "        }\n",
              "      </script>\n",
              "    </div>\n",
              "  </div>\n",
              "  "
            ]
          },
          "metadata": {},
          "execution_count": 10
        }
      ],
      "source": [
        "df.head()"
      ]
    },
    {
      "cell_type": "code",
      "execution_count": null,
      "id": "2c259661",
      "metadata": {
        "id": "2c259661",
        "colab": {
          "base_uri": "https://localhost:8080/",
          "height": 300
        },
        "outputId": "14be7d70-2c05-41be-8286-a6834f6b55e7"
      },
      "outputs": [
        {
          "output_type": "execute_result",
          "data": {
            "text/plain": [
              "              count         mean            std     min     25%      50%  \\\n",
              "followers   20000.0    900.48395    1899.913961     0.0   177.0    476.0   \n",
              "friends     20000.0    782.42875    1834.817945     0.0   211.0    561.0   \n",
              "favourites  20000.0   6398.23555    8393.072914     0.0   243.0   2752.0   \n",
              "statuses    20000.0  44394.41960  140778.519201     3.0  5129.0  13251.0   \n",
              "retweets    20000.0   1437.92730   15119.665118     0.0     0.0      0.0   \n",
              "label       20000.0      0.50000       0.500013     0.0     0.0      0.5   \n",
              "month       20000.0      6.71135       4.735351     1.0     1.0      8.0   \n",
              "year        20000.0   2015.48595       1.485434  2009.0  2015.0   2016.0   \n",
              "\n",
              "                75%        max  \n",
              "followers    1197.0    28614.0  \n",
              "friends       701.0    28514.0  \n",
              "favourites   8229.0    39008.0  \n",
              "statuses    52892.0  1063601.0  \n",
              "retweets        1.0   839540.0  \n",
              "label           1.0        1.0  \n",
              "month          12.0       12.0  \n",
              "year         2016.0     2017.0  "
            ],
            "text/html": [
              "\n",
              "  <div id=\"df-fd0a6289-bc05-414b-baa4-d249e7fe3ccb\">\n",
              "    <div class=\"colab-df-container\">\n",
              "      <div>\n",
              "<style scoped>\n",
              "    .dataframe tbody tr th:only-of-type {\n",
              "        vertical-align: middle;\n",
              "    }\n",
              "\n",
              "    .dataframe tbody tr th {\n",
              "        vertical-align: top;\n",
              "    }\n",
              "\n",
              "    .dataframe thead th {\n",
              "        text-align: right;\n",
              "    }\n",
              "</style>\n",
              "<table border=\"1\" class=\"dataframe\">\n",
              "  <thead>\n",
              "    <tr style=\"text-align: right;\">\n",
              "      <th></th>\n",
              "      <th>count</th>\n",
              "      <th>mean</th>\n",
              "      <th>std</th>\n",
              "      <th>min</th>\n",
              "      <th>25%</th>\n",
              "      <th>50%</th>\n",
              "      <th>75%</th>\n",
              "      <th>max</th>\n",
              "    </tr>\n",
              "  </thead>\n",
              "  <tbody>\n",
              "    <tr>\n",
              "      <th>followers</th>\n",
              "      <td>20000.0</td>\n",
              "      <td>900.48395</td>\n",
              "      <td>1899.913961</td>\n",
              "      <td>0.0</td>\n",
              "      <td>177.0</td>\n",
              "      <td>476.0</td>\n",
              "      <td>1197.0</td>\n",
              "      <td>28614.0</td>\n",
              "    </tr>\n",
              "    <tr>\n",
              "      <th>friends</th>\n",
              "      <td>20000.0</td>\n",
              "      <td>782.42875</td>\n",
              "      <td>1834.817945</td>\n",
              "      <td>0.0</td>\n",
              "      <td>211.0</td>\n",
              "      <td>561.0</td>\n",
              "      <td>701.0</td>\n",
              "      <td>28514.0</td>\n",
              "    </tr>\n",
              "    <tr>\n",
              "      <th>favourites</th>\n",
              "      <td>20000.0</td>\n",
              "      <td>6398.23555</td>\n",
              "      <td>8393.072914</td>\n",
              "      <td>0.0</td>\n",
              "      <td>243.0</td>\n",
              "      <td>2752.0</td>\n",
              "      <td>8229.0</td>\n",
              "      <td>39008.0</td>\n",
              "    </tr>\n",
              "    <tr>\n",
              "      <th>statuses</th>\n",
              "      <td>20000.0</td>\n",
              "      <td>44394.41960</td>\n",
              "      <td>140778.519201</td>\n",
              "      <td>3.0</td>\n",
              "      <td>5129.0</td>\n",
              "      <td>13251.0</td>\n",
              "      <td>52892.0</td>\n",
              "      <td>1063601.0</td>\n",
              "    </tr>\n",
              "    <tr>\n",
              "      <th>retweets</th>\n",
              "      <td>20000.0</td>\n",
              "      <td>1437.92730</td>\n",
              "      <td>15119.665118</td>\n",
              "      <td>0.0</td>\n",
              "      <td>0.0</td>\n",
              "      <td>0.0</td>\n",
              "      <td>1.0</td>\n",
              "      <td>839540.0</td>\n",
              "    </tr>\n",
              "    <tr>\n",
              "      <th>label</th>\n",
              "      <td>20000.0</td>\n",
              "      <td>0.50000</td>\n",
              "      <td>0.500013</td>\n",
              "      <td>0.0</td>\n",
              "      <td>0.0</td>\n",
              "      <td>0.5</td>\n",
              "      <td>1.0</td>\n",
              "      <td>1.0</td>\n",
              "    </tr>\n",
              "    <tr>\n",
              "      <th>month</th>\n",
              "      <td>20000.0</td>\n",
              "      <td>6.71135</td>\n",
              "      <td>4.735351</td>\n",
              "      <td>1.0</td>\n",
              "      <td>1.0</td>\n",
              "      <td>8.0</td>\n",
              "      <td>12.0</td>\n",
              "      <td>12.0</td>\n",
              "    </tr>\n",
              "    <tr>\n",
              "      <th>year</th>\n",
              "      <td>20000.0</td>\n",
              "      <td>2015.48595</td>\n",
              "      <td>1.485434</td>\n",
              "      <td>2009.0</td>\n",
              "      <td>2015.0</td>\n",
              "      <td>2016.0</td>\n",
              "      <td>2016.0</td>\n",
              "      <td>2017.0</td>\n",
              "    </tr>\n",
              "  </tbody>\n",
              "</table>\n",
              "</div>\n",
              "      <button class=\"colab-df-convert\" onclick=\"convertToInteractive('df-fd0a6289-bc05-414b-baa4-d249e7fe3ccb')\"\n",
              "              title=\"Convert this dataframe to an interactive table.\"\n",
              "              style=\"display:none;\">\n",
              "        \n",
              "  <svg xmlns=\"http://www.w3.org/2000/svg\" height=\"24px\"viewBox=\"0 0 24 24\"\n",
              "       width=\"24px\">\n",
              "    <path d=\"M0 0h24v24H0V0z\" fill=\"none\"/>\n",
              "    <path d=\"M18.56 5.44l.94 2.06.94-2.06 2.06-.94-2.06-.94-.94-2.06-.94 2.06-2.06.94zm-11 1L8.5 8.5l.94-2.06 2.06-.94-2.06-.94L8.5 2.5l-.94 2.06-2.06.94zm10 10l.94 2.06.94-2.06 2.06-.94-2.06-.94-.94-2.06-.94 2.06-2.06.94z\"/><path d=\"M17.41 7.96l-1.37-1.37c-.4-.4-.92-.59-1.43-.59-.52 0-1.04.2-1.43.59L10.3 9.45l-7.72 7.72c-.78.78-.78 2.05 0 2.83L4 21.41c.39.39.9.59 1.41.59.51 0 1.02-.2 1.41-.59l7.78-7.78 2.81-2.81c.8-.78.8-2.07 0-2.86zM5.41 20L4 18.59l7.72-7.72 1.47 1.35L5.41 20z\"/>\n",
              "  </svg>\n",
              "      </button>\n",
              "      \n",
              "  <style>\n",
              "    .colab-df-container {\n",
              "      display:flex;\n",
              "      flex-wrap:wrap;\n",
              "      gap: 12px;\n",
              "    }\n",
              "\n",
              "    .colab-df-convert {\n",
              "      background-color: #E8F0FE;\n",
              "      border: none;\n",
              "      border-radius: 50%;\n",
              "      cursor: pointer;\n",
              "      display: none;\n",
              "      fill: #1967D2;\n",
              "      height: 32px;\n",
              "      padding: 0 0 0 0;\n",
              "      width: 32px;\n",
              "    }\n",
              "\n",
              "    .colab-df-convert:hover {\n",
              "      background-color: #E2EBFA;\n",
              "      box-shadow: 0px 1px 2px rgba(60, 64, 67, 0.3), 0px 1px 3px 1px rgba(60, 64, 67, 0.15);\n",
              "      fill: #174EA6;\n",
              "    }\n",
              "\n",
              "    [theme=dark] .colab-df-convert {\n",
              "      background-color: #3B4455;\n",
              "      fill: #D2E3FC;\n",
              "    }\n",
              "\n",
              "    [theme=dark] .colab-df-convert:hover {\n",
              "      background-color: #434B5C;\n",
              "      box-shadow: 0px 1px 3px 1px rgba(0, 0, 0, 0.15);\n",
              "      filter: drop-shadow(0px 1px 2px rgba(0, 0, 0, 0.3));\n",
              "      fill: #FFFFFF;\n",
              "    }\n",
              "  </style>\n",
              "\n",
              "      <script>\n",
              "        const buttonEl =\n",
              "          document.querySelector('#df-fd0a6289-bc05-414b-baa4-d249e7fe3ccb button.colab-df-convert');\n",
              "        buttonEl.style.display =\n",
              "          google.colab.kernel.accessAllowed ? 'block' : 'none';\n",
              "\n",
              "        async function convertToInteractive(key) {\n",
              "          const element = document.querySelector('#df-fd0a6289-bc05-414b-baa4-d249e7fe3ccb');\n",
              "          const dataTable =\n",
              "            await google.colab.kernel.invokeFunction('convertToInteractive',\n",
              "                                                     [key], {});\n",
              "          if (!dataTable) return;\n",
              "\n",
              "          const docLinkHtml = 'Like what you see? Visit the ' +\n",
              "            '<a target=\"_blank\" href=https://colab.research.google.com/notebooks/data_table.ipynb>data table notebook</a>'\n",
              "            + ' to learn more about interactive tables.';\n",
              "          element.innerHTML = '';\n",
              "          dataTable['output_type'] = 'display_data';\n",
              "          await google.colab.output.renderOutput(dataTable, element);\n",
              "          const docLink = document.createElement('div');\n",
              "          docLink.innerHTML = docLinkHtml;\n",
              "          element.appendChild(docLink);\n",
              "        }\n",
              "      </script>\n",
              "    </div>\n",
              "  </div>\n",
              "  "
            ]
          },
          "metadata": {},
          "execution_count": 11
        }
      ],
      "source": [
        "df.describe().T"
      ]
    },
    {
      "cell_type": "code",
      "execution_count": null,
      "id": "f7d51f4c",
      "metadata": {
        "id": "f7d51f4c",
        "colab": {
          "base_uri": "https://localhost:8080/"
        },
        "outputId": "2916d692-584f-4de2-e3c2-3897ec267d9c"
      },
      "outputs": [
        {
          "output_type": "stream",
          "name": "stdout",
          "text": [
            "Looking in indexes: https://pypi.org/simple, https://us-python.pkg.dev/colab-wheels/public/simple/\n",
            "Requirement already satisfied: textblob in /usr/local/lib/python3.8/dist-packages (0.15.3)\n",
            "Requirement already satisfied: nltk>=3.1 in /usr/local/lib/python3.8/dist-packages (from textblob) (3.7)\n",
            "Requirement already satisfied: tqdm in /usr/local/lib/python3.8/dist-packages (from nltk>=3.1->textblob) (4.64.1)\n",
            "Requirement already satisfied: click in /usr/local/lib/python3.8/dist-packages (from nltk>=3.1->textblob) (7.1.2)\n",
            "Requirement already satisfied: regex>=2021.8.3 in /usr/local/lib/python3.8/dist-packages (from nltk>=3.1->textblob) (2022.6.2)\n",
            "Requirement already satisfied: joblib in /usr/local/lib/python3.8/dist-packages (from nltk>=3.1->textblob) (1.2.0)\n",
            "Looking in indexes: https://pypi.org/simple, https://us-python.pkg.dev/colab-wheels/public/simple/\n",
            "Requirement already satisfied: nltk in /usr/local/lib/python3.8/dist-packages (3.7)\n",
            "Requirement already satisfied: tqdm in /usr/local/lib/python3.8/dist-packages (from nltk) (4.64.1)\n",
            "Requirement already satisfied: regex>=2021.8.3 in /usr/local/lib/python3.8/dist-packages (from nltk) (2022.6.2)\n",
            "Requirement already satisfied: joblib in /usr/local/lib/python3.8/dist-packages (from nltk) (1.2.0)\n",
            "Requirement already satisfied: click in /usr/local/lib/python3.8/dist-packages (from nltk) (7.1.2)\n"
          ]
        }
      ],
      "source": [
        "!pip install textblob\n",
        "!pip install nltk \n",
        "\n",
        "from nltk.corpus import stopwords\n",
        "from textblob import TextBlob\n",
        "from textblob import Word"
      ]
    },
    {
      "cell_type": "code",
      "execution_count": null,
      "id": "6fd9eb77",
      "metadata": {
        "id": "6fd9eb77"
      },
      "outputs": [],
      "source": [
        "#Converting to lowercase\n",
        "df[\"post_text\"] = df[\"post_text\"].apply(lambda x: \" \".join(x.lower() for x in x.split()))"
      ]
    },
    {
      "cell_type": "code",
      "execution_count": null,
      "id": "4b45b7c5",
      "metadata": {
        "id": "4b45b7c5",
        "colab": {
          "base_uri": "https://localhost:8080/"
        },
        "outputId": "284c6369-5148-4528-bbc6-97c5546e717f"
      },
      "outputs": [
        {
          "output_type": "stream",
          "name": "stderr",
          "text": [
            "<ipython-input-14-72213b60cd0f>:2: FutureWarning: The default value of regex will change from True to False in a future version.\n",
            "  df[\"post_text\"] = df[\"post_text\"].str.replace(\"\\d\",\"\")\n"
          ]
        }
      ],
      "source": [
        "#Removing numerical values \n",
        "df[\"post_text\"] = df[\"post_text\"].str.replace(\"\\d\",\"\")"
      ]
    },
    {
      "cell_type": "code",
      "execution_count": null,
      "id": "8362f0ef",
      "metadata": {
        "id": "8362f0ef",
        "colab": {
          "base_uri": "https://localhost:8080/"
        },
        "outputId": "bad48681-6422-4723-c221-b28ff43c28cd"
      },
      "outputs": [
        {
          "output_type": "stream",
          "name": "stderr",
          "text": [
            "<ipython-input-15-7a5d48acfdcb>:2: FutureWarning: The default value of regex will change from True to False in a future version.\n",
            "  df[\"post_text\"] = df[\"post_text\"].str.replace(\"[^\\w\\s]\",\"\")\n"
          ]
        }
      ],
      "source": [
        "#Removing punctations\n",
        "df[\"post_text\"] = df[\"post_text\"].str.replace(\"[^\\w\\s]\",\"\")"
      ]
    },
    {
      "cell_type": "code",
      "execution_count": null,
      "id": "ab79fb8d",
      "metadata": {
        "id": "ab79fb8d",
        "colab": {
          "base_uri": "https://localhost:8080/"
        },
        "outputId": "d550086d-5a9e-464c-c0c4-b973552adefe"
      },
      "outputs": [
        {
          "output_type": "stream",
          "name": "stderr",
          "text": [
            "[nltk_data] Downloading package stopwords to /root/nltk_data...\n",
            "[nltk_data]   Package stopwords is already up-to-date!\n"
          ]
        }
      ],
      "source": [
        "import nltk\n",
        "nltk.download(\"stopwords\")\n",
        "from nltk.corpus import stopwords\n",
        "sw = stopwords.words(\"english\")\n",
        "df[\"post_text\"] = df[\"post_text\"].apply(lambda x: \" \".join(x for x in x.split() if x not in sw))"
      ]
    },
    {
      "cell_type": "code",
      "execution_count": null,
      "id": "e7518cc4",
      "metadata": {
        "id": "e7518cc4",
        "colab": {
          "base_uri": "https://localhost:8080/"
        },
        "outputId": "d5f49184-3b6e-4dad-ddd3-2a10c10d0e8d"
      },
      "outputs": [
        {
          "output_type": "stream",
          "name": "stderr",
          "text": [
            "[nltk_data] Downloading package wordnet to /root/nltk_data...\n",
            "[nltk_data]   Package wordnet is already up-to-date!\n",
            "[nltk_data] Downloading package omw-1.4 to /root/nltk_data...\n",
            "[nltk_data]   Package omw-1.4 is already up-to-date!\n"
          ]
        }
      ],
      "source": [
        "from textblob import Word\n",
        "nltk.download(\"wordnet\")\n",
        "nltk.download(\"omw-1.4\")\n",
        "df[\"post_text\"] = df[\"post_text\"].apply(lambda x: \" \".join([Word(x).lemmatize()]))"
      ]
    },
    {
      "cell_type": "code",
      "source": [
        "# from nltk.tokenize import word_tokenize\n",
        "# df[\"tokens\"] = df[\"post_text\"].apply(lambda x: TextBlob(x).words)\n",
        "nltk.download('punkt')\n"
      ],
      "metadata": {
        "id": "o6Cq-ZcdtsaA",
        "colab": {
          "base_uri": "https://localhost:8080/"
        },
        "outputId": "e45c6487-106a-497d-d53d-944b162204b7"
      },
      "id": "o6Cq-ZcdtsaA",
      "execution_count": null,
      "outputs": [
        {
          "output_type": "stream",
          "name": "stderr",
          "text": [
            "[nltk_data] Downloading package punkt to /root/nltk_data...\n",
            "[nltk_data]   Package punkt is already up-to-date!\n"
          ]
        },
        {
          "output_type": "execute_result",
          "data": {
            "text/plain": [
              "True"
            ]
          },
          "metadata": {},
          "execution_count": 18
        }
      ]
    },
    {
      "cell_type": "code",
      "source": [
        "from nltk.tokenize import word_tokenize\n",
        "df[\"tokens\"] = df[\"post_text\"].apply(lambda x: TextBlob(x).words)"
      ],
      "metadata": {
        "id": "XkVrtR3jxc4h"
      },
      "id": "XkVrtR3jxc4h",
      "execution_count": null,
      "outputs": []
    },
    {
      "cell_type": "code",
      "source": [
        "df[\"frequency\"] = df[\"post_text\"].apply(lambda x: len(str(x).split(\" \"))) "
      ],
      "metadata": {
        "id": "1XhaowkjxsKh"
      },
      "id": "1XhaowkjxsKh",
      "execution_count": null,
      "outputs": []
    },
    {
      "cell_type": "code",
      "source": [
        "df.groupby(\"frequency\").max()\n",
        "df[df[\"post_text\"].str.contains(\"sos unique\")]\n",
        "longest_comment=df.iloc[3038,0]\n",
        "print(longest_comment)"
      ],
      "metadata": {
        "id": "EWwljj3XxvTA",
        "colab": {
          "base_uri": "https://localhost:8080/"
        },
        "outputId": "8ee2bf0a-4734-4497-a02b-feeda28f102f"
      },
      "id": "EWwljj3XxvTA",
      "execution_count": null,
      "outputs": [
        {
          "output_type": "stream",
          "name": "stdout",
          "text": [
            "rt sos unique new york unique new york unique new york unique new york unique new york unique new york unique new york unique new york u\n"
          ]
        }
      ]
    },
    {
      "cell_type": "code",
      "source": [
        " nltk.download('averaged_perceptron_tagger')"
      ],
      "metadata": {
        "id": "lY0vbSPVx05x",
        "colab": {
          "base_uri": "https://localhost:8080/"
        },
        "outputId": "cb4922b8-2084-4333-acc7-727d4d6b402e"
      },
      "id": "lY0vbSPVx05x",
      "execution_count": null,
      "outputs": [
        {
          "output_type": "stream",
          "name": "stderr",
          "text": [
            "[nltk_data] Downloading package averaged_perceptron_tagger to\n",
            "[nltk_data]     /root/nltk_data...\n",
            "[nltk_data]   Package averaged_perceptron_tagger is already up-to-\n",
            "[nltk_data]       date!\n"
          ]
        },
        {
          "output_type": "execute_result",
          "data": {
            "text/plain": [
              "True"
            ]
          },
          "metadata": {},
          "execution_count": 22
        }
      ]
    },
    {
      "cell_type": "code",
      "source": [
        "TextBlob(longest_comment).tags"
      ],
      "metadata": {
        "id": "RxFe3L5EyR9R",
        "colab": {
          "base_uri": "https://localhost:8080/"
        },
        "outputId": "10468389-2dff-4d14-e108-da00d44a5f8b"
      },
      "id": "RxFe3L5EyR9R",
      "execution_count": null,
      "outputs": [
        {
          "output_type": "execute_result",
          "data": {
            "text/plain": [
              "[('rt', 'NN'),\n",
              " ('sos', 'NN'),\n",
              " ('unique', 'JJ'),\n",
              " ('new', 'JJ'),\n",
              " ('york', 'NN'),\n",
              " ('unique', 'JJ'),\n",
              " ('new', 'JJ'),\n",
              " ('york', 'NN'),\n",
              " ('unique', 'JJ'),\n",
              " ('new', 'JJ'),\n",
              " ('york', 'NN'),\n",
              " ('unique', 'JJ'),\n",
              " ('new', 'JJ'),\n",
              " ('york', 'NN'),\n",
              " ('unique', 'JJ'),\n",
              " ('new', 'JJ'),\n",
              " ('york', 'NN'),\n",
              " ('unique', 'JJ'),\n",
              " ('new', 'JJ'),\n",
              " ('york', 'NN'),\n",
              " ('unique', 'JJ'),\n",
              " ('new', 'JJ'),\n",
              " ('york', 'NN'),\n",
              " ('unique', 'JJ'),\n",
              " ('new', 'JJ'),\n",
              " ('york', 'NN'),\n",
              " ('u', 'NN')]"
            ]
          },
          "metadata": {},
          "execution_count": 23
        }
      ]
    },
    {
      "cell_type": "code",
      "source": [
        "df.head()"
      ],
      "metadata": {
        "id": "eRvm3P9yyaqh",
        "colab": {
          "base_uri": "https://localhost:8080/",
          "height": 337
        },
        "outputId": "7a09ede8-c04c-4997-a988-7d22b022ae74"
      },
      "id": "eRvm3P9yyaqh",
      "execution_count": null,
      "outputs": [
        {
          "output_type": "execute_result",
          "data": {
            "text/plain": [
              "                                           post_text  followers  friends  \\\n",
              "0  years since diagnosed anxiety depression today...         84      211   \n",
              "1  sunday need break im planning spend little tim...         84      211   \n",
              "2                 awake tired need sleep brain ideas         84      211   \n",
              "3  rt sewhq retro bears make perfect gifts great ...         84      211   \n",
              "4  hard say whether packing lists making life eas...         84      211   \n",
              "\n",
              "   favourites  statuses  retweets  label  month  year  \\\n",
              "0         251       837         0      1      8  2015   \n",
              "1         251       837         1      1      8  2015   \n",
              "2         251       837         0      1      8  2015   \n",
              "3         251       837         2      1      8  2015   \n",
              "4         251       837         1      1      8  2015   \n",
              "\n",
              "                                              tokens  frequency  \n",
              "0  [years, since, diagnosed, anxiety, depression,...         14  \n",
              "1  [sunday, need, break, im, planning, spend, lit...          9  \n",
              "2          [awake, tired, need, sleep, brain, ideas]          6  \n",
              "3  [rt, sewhq, retro, bears, make, perfect, gifts...         16  \n",
              "4  [hard, say, whether, packing, lists, making, l...         14  "
            ],
            "text/html": [
              "\n",
              "  <div id=\"df-7ca4f944-2485-40d6-b9d6-dfafb266710f\">\n",
              "    <div class=\"colab-df-container\">\n",
              "      <div>\n",
              "<style scoped>\n",
              "    .dataframe tbody tr th:only-of-type {\n",
              "        vertical-align: middle;\n",
              "    }\n",
              "\n",
              "    .dataframe tbody tr th {\n",
              "        vertical-align: top;\n",
              "    }\n",
              "\n",
              "    .dataframe thead th {\n",
              "        text-align: right;\n",
              "    }\n",
              "</style>\n",
              "<table border=\"1\" class=\"dataframe\">\n",
              "  <thead>\n",
              "    <tr style=\"text-align: right;\">\n",
              "      <th></th>\n",
              "      <th>post_text</th>\n",
              "      <th>followers</th>\n",
              "      <th>friends</th>\n",
              "      <th>favourites</th>\n",
              "      <th>statuses</th>\n",
              "      <th>retweets</th>\n",
              "      <th>label</th>\n",
              "      <th>month</th>\n",
              "      <th>year</th>\n",
              "      <th>tokens</th>\n",
              "      <th>frequency</th>\n",
              "    </tr>\n",
              "  </thead>\n",
              "  <tbody>\n",
              "    <tr>\n",
              "      <th>0</th>\n",
              "      <td>years since diagnosed anxiety depression today...</td>\n",
              "      <td>84</td>\n",
              "      <td>211</td>\n",
              "      <td>251</td>\n",
              "      <td>837</td>\n",
              "      <td>0</td>\n",
              "      <td>1</td>\n",
              "      <td>8</td>\n",
              "      <td>2015</td>\n",
              "      <td>[years, since, diagnosed, anxiety, depression,...</td>\n",
              "      <td>14</td>\n",
              "    </tr>\n",
              "    <tr>\n",
              "      <th>1</th>\n",
              "      <td>sunday need break im planning spend little tim...</td>\n",
              "      <td>84</td>\n",
              "      <td>211</td>\n",
              "      <td>251</td>\n",
              "      <td>837</td>\n",
              "      <td>1</td>\n",
              "      <td>1</td>\n",
              "      <td>8</td>\n",
              "      <td>2015</td>\n",
              "      <td>[sunday, need, break, im, planning, spend, lit...</td>\n",
              "      <td>9</td>\n",
              "    </tr>\n",
              "    <tr>\n",
              "      <th>2</th>\n",
              "      <td>awake tired need sleep brain ideas</td>\n",
              "      <td>84</td>\n",
              "      <td>211</td>\n",
              "      <td>251</td>\n",
              "      <td>837</td>\n",
              "      <td>0</td>\n",
              "      <td>1</td>\n",
              "      <td>8</td>\n",
              "      <td>2015</td>\n",
              "      <td>[awake, tired, need, sleep, brain, ideas]</td>\n",
              "      <td>6</td>\n",
              "    </tr>\n",
              "    <tr>\n",
              "      <th>3</th>\n",
              "      <td>rt sewhq retro bears make perfect gifts great ...</td>\n",
              "      <td>84</td>\n",
              "      <td>211</td>\n",
              "      <td>251</td>\n",
              "      <td>837</td>\n",
              "      <td>2</td>\n",
              "      <td>1</td>\n",
              "      <td>8</td>\n",
              "      <td>2015</td>\n",
              "      <td>[rt, sewhq, retro, bears, make, perfect, gifts...</td>\n",
              "      <td>16</td>\n",
              "    </tr>\n",
              "    <tr>\n",
              "      <th>4</th>\n",
              "      <td>hard say whether packing lists making life eas...</td>\n",
              "      <td>84</td>\n",
              "      <td>211</td>\n",
              "      <td>251</td>\n",
              "      <td>837</td>\n",
              "      <td>1</td>\n",
              "      <td>1</td>\n",
              "      <td>8</td>\n",
              "      <td>2015</td>\n",
              "      <td>[hard, say, whether, packing, lists, making, l...</td>\n",
              "      <td>14</td>\n",
              "    </tr>\n",
              "  </tbody>\n",
              "</table>\n",
              "</div>\n",
              "      <button class=\"colab-df-convert\" onclick=\"convertToInteractive('df-7ca4f944-2485-40d6-b9d6-dfafb266710f')\"\n",
              "              title=\"Convert this dataframe to an interactive table.\"\n",
              "              style=\"display:none;\">\n",
              "        \n",
              "  <svg xmlns=\"http://www.w3.org/2000/svg\" height=\"24px\"viewBox=\"0 0 24 24\"\n",
              "       width=\"24px\">\n",
              "    <path d=\"M0 0h24v24H0V0z\" fill=\"none\"/>\n",
              "    <path d=\"M18.56 5.44l.94 2.06.94-2.06 2.06-.94-2.06-.94-.94-2.06-.94 2.06-2.06.94zm-11 1L8.5 8.5l.94-2.06 2.06-.94-2.06-.94L8.5 2.5l-.94 2.06-2.06.94zm10 10l.94 2.06.94-2.06 2.06-.94-2.06-.94-.94-2.06-.94 2.06-2.06.94z\"/><path d=\"M17.41 7.96l-1.37-1.37c-.4-.4-.92-.59-1.43-.59-.52 0-1.04.2-1.43.59L10.3 9.45l-7.72 7.72c-.78.78-.78 2.05 0 2.83L4 21.41c.39.39.9.59 1.41.59.51 0 1.02-.2 1.41-.59l7.78-7.78 2.81-2.81c.8-.78.8-2.07 0-2.86zM5.41 20L4 18.59l7.72-7.72 1.47 1.35L5.41 20z\"/>\n",
              "  </svg>\n",
              "      </button>\n",
              "      \n",
              "  <style>\n",
              "    .colab-df-container {\n",
              "      display:flex;\n",
              "      flex-wrap:wrap;\n",
              "      gap: 12px;\n",
              "    }\n",
              "\n",
              "    .colab-df-convert {\n",
              "      background-color: #E8F0FE;\n",
              "      border: none;\n",
              "      border-radius: 50%;\n",
              "      cursor: pointer;\n",
              "      display: none;\n",
              "      fill: #1967D2;\n",
              "      height: 32px;\n",
              "      padding: 0 0 0 0;\n",
              "      width: 32px;\n",
              "    }\n",
              "\n",
              "    .colab-df-convert:hover {\n",
              "      background-color: #E2EBFA;\n",
              "      box-shadow: 0px 1px 2px rgba(60, 64, 67, 0.3), 0px 1px 3px 1px rgba(60, 64, 67, 0.15);\n",
              "      fill: #174EA6;\n",
              "    }\n",
              "\n",
              "    [theme=dark] .colab-df-convert {\n",
              "      background-color: #3B4455;\n",
              "      fill: #D2E3FC;\n",
              "    }\n",
              "\n",
              "    [theme=dark] .colab-df-convert:hover {\n",
              "      background-color: #434B5C;\n",
              "      box-shadow: 0px 1px 3px 1px rgba(0, 0, 0, 0.15);\n",
              "      filter: drop-shadow(0px 1px 2px rgba(0, 0, 0, 0.3));\n",
              "      fill: #FFFFFF;\n",
              "    }\n",
              "  </style>\n",
              "\n",
              "      <script>\n",
              "        const buttonEl =\n",
              "          document.querySelector('#df-7ca4f944-2485-40d6-b9d6-dfafb266710f button.colab-df-convert');\n",
              "        buttonEl.style.display =\n",
              "          google.colab.kernel.accessAllowed ? 'block' : 'none';\n",
              "\n",
              "        async function convertToInteractive(key) {\n",
              "          const element = document.querySelector('#df-7ca4f944-2485-40d6-b9d6-dfafb266710f');\n",
              "          const dataTable =\n",
              "            await google.colab.kernel.invokeFunction('convertToInteractive',\n",
              "                                                     [key], {});\n",
              "          if (!dataTable) return;\n",
              "\n",
              "          const docLinkHtml = 'Like what you see? Visit the ' +\n",
              "            '<a target=\"_blank\" href=https://colab.research.google.com/notebooks/data_table.ipynb>data table notebook</a>'\n",
              "            + ' to learn more about interactive tables.';\n",
              "          element.innerHTML = '';\n",
              "          dataTable['output_type'] = 'display_data';\n",
              "          await google.colab.output.renderOutput(dataTable, element);\n",
              "          const docLink = document.createElement('div');\n",
              "          docLink.innerHTML = docLinkHtml;\n",
              "          element.appendChild(docLink);\n",
              "        }\n",
              "      </script>\n",
              "    </div>\n",
              "  </div>\n",
              "  "
            ]
          },
          "metadata": {},
          "execution_count": 24
        }
      ]
    },
    {
      "cell_type": "code",
      "source": [
        "# !pip install textblob \n",
        "# from textblob import TextBlob"
      ],
      "metadata": {
        "id": "QvyP6ECZy4tg"
      },
      "id": "QvyP6ECZy4tg",
      "execution_count": null,
      "outputs": []
    },
    {
      "cell_type": "code",
      "source": [
        "blob_emptyline2 = []\n",
        "\n",
        "for i in df[\"post_text\"]:\n",
        "    blob = TextBlob(i).sentiment\n",
        "    blob_emptyline2.append(blob)"
      ],
      "metadata": {
        "id": "EbIq2lqqy9VJ"
      },
      "id": "EbIq2lqqy9VJ",
      "execution_count": null,
      "outputs": []
    },
    {
      "cell_type": "code",
      "source": [
        "df_blob2 = pd.DataFrame(blob_emptyline2)"
      ],
      "metadata": {
        "id": "hkrCiRnmzFjB"
      },
      "id": "hkrCiRnmzFjB",
      "execution_count": null,
      "outputs": []
    },
    {
      "cell_type": "code",
      "source": [
        "df_blob3 = pd.concat([df.reset_index(drop=True), df_blob2], axis=1)\n",
        "df_blob3.head()"
      ],
      "metadata": {
        "id": "Ky7TQfatzHRw",
        "colab": {
          "base_uri": "https://localhost:8080/",
          "height": 406
        },
        "outputId": "e79ef563-9236-4748-e59b-33670b38dfe0"
      },
      "id": "Ky7TQfatzHRw",
      "execution_count": null,
      "outputs": [
        {
          "output_type": "execute_result",
          "data": {
            "text/plain": [
              "                                           post_text  followers  friends  \\\n",
              "0  years since diagnosed anxiety depression today...         84      211   \n",
              "1  sunday need break im planning spend little tim...         84      211   \n",
              "2                 awake tired need sleep brain ideas         84      211   \n",
              "3  rt sewhq retro bears make perfect gifts great ...         84      211   \n",
              "4  hard say whether packing lists making life eas...         84      211   \n",
              "\n",
              "   favourites  statuses  retweets  label  month  year  \\\n",
              "0         251       837         0      1      8  2015   \n",
              "1         251       837         1      1      8  2015   \n",
              "2         251       837         0      1      8  2015   \n",
              "3         251       837         2      1      8  2015   \n",
              "4         251       837         1      1      8  2015   \n",
              "\n",
              "                                              tokens  frequency  polarity  \\\n",
              "0  [years, since, diagnosed, anxiety, depression,...         14  0.100000   \n",
              "1  [sunday, need, break, im, planning, spend, lit...          9 -0.093750   \n",
              "2          [awake, tired, need, sleep, brain, ideas]          6 -0.400000   \n",
              "3  [rt, sewhq, retro, bears, make, perfect, gifts...         16  0.900000   \n",
              "4  [hard, say, whether, packing, lists, making, l...         14 -0.045833   \n",
              "\n",
              "   subjectivity  \n",
              "0      1.000000  \n",
              "1      0.750000  \n",
              "2      0.700000  \n",
              "3      0.875000  \n",
              "4      0.370833  "
            ],
            "text/html": [
              "\n",
              "  <div id=\"df-3075f90a-07f7-44ea-bc3b-4e536ce0a408\">\n",
              "    <div class=\"colab-df-container\">\n",
              "      <div>\n",
              "<style scoped>\n",
              "    .dataframe tbody tr th:only-of-type {\n",
              "        vertical-align: middle;\n",
              "    }\n",
              "\n",
              "    .dataframe tbody tr th {\n",
              "        vertical-align: top;\n",
              "    }\n",
              "\n",
              "    .dataframe thead th {\n",
              "        text-align: right;\n",
              "    }\n",
              "</style>\n",
              "<table border=\"1\" class=\"dataframe\">\n",
              "  <thead>\n",
              "    <tr style=\"text-align: right;\">\n",
              "      <th></th>\n",
              "      <th>post_text</th>\n",
              "      <th>followers</th>\n",
              "      <th>friends</th>\n",
              "      <th>favourites</th>\n",
              "      <th>statuses</th>\n",
              "      <th>retweets</th>\n",
              "      <th>label</th>\n",
              "      <th>month</th>\n",
              "      <th>year</th>\n",
              "      <th>tokens</th>\n",
              "      <th>frequency</th>\n",
              "      <th>polarity</th>\n",
              "      <th>subjectivity</th>\n",
              "    </tr>\n",
              "  </thead>\n",
              "  <tbody>\n",
              "    <tr>\n",
              "      <th>0</th>\n",
              "      <td>years since diagnosed anxiety depression today...</td>\n",
              "      <td>84</td>\n",
              "      <td>211</td>\n",
              "      <td>251</td>\n",
              "      <td>837</td>\n",
              "      <td>0</td>\n",
              "      <td>1</td>\n",
              "      <td>8</td>\n",
              "      <td>2015</td>\n",
              "      <td>[years, since, diagnosed, anxiety, depression,...</td>\n",
              "      <td>14</td>\n",
              "      <td>0.100000</td>\n",
              "      <td>1.000000</td>\n",
              "    </tr>\n",
              "    <tr>\n",
              "      <th>1</th>\n",
              "      <td>sunday need break im planning spend little tim...</td>\n",
              "      <td>84</td>\n",
              "      <td>211</td>\n",
              "      <td>251</td>\n",
              "      <td>837</td>\n",
              "      <td>1</td>\n",
              "      <td>1</td>\n",
              "      <td>8</td>\n",
              "      <td>2015</td>\n",
              "      <td>[sunday, need, break, im, planning, spend, lit...</td>\n",
              "      <td>9</td>\n",
              "      <td>-0.093750</td>\n",
              "      <td>0.750000</td>\n",
              "    </tr>\n",
              "    <tr>\n",
              "      <th>2</th>\n",
              "      <td>awake tired need sleep brain ideas</td>\n",
              "      <td>84</td>\n",
              "      <td>211</td>\n",
              "      <td>251</td>\n",
              "      <td>837</td>\n",
              "      <td>0</td>\n",
              "      <td>1</td>\n",
              "      <td>8</td>\n",
              "      <td>2015</td>\n",
              "      <td>[awake, tired, need, sleep, brain, ideas]</td>\n",
              "      <td>6</td>\n",
              "      <td>-0.400000</td>\n",
              "      <td>0.700000</td>\n",
              "    </tr>\n",
              "    <tr>\n",
              "      <th>3</th>\n",
              "      <td>rt sewhq retro bears make perfect gifts great ...</td>\n",
              "      <td>84</td>\n",
              "      <td>211</td>\n",
              "      <td>251</td>\n",
              "      <td>837</td>\n",
              "      <td>2</td>\n",
              "      <td>1</td>\n",
              "      <td>8</td>\n",
              "      <td>2015</td>\n",
              "      <td>[rt, sewhq, retro, bears, make, perfect, gifts...</td>\n",
              "      <td>16</td>\n",
              "      <td>0.900000</td>\n",
              "      <td>0.875000</td>\n",
              "    </tr>\n",
              "    <tr>\n",
              "      <th>4</th>\n",
              "      <td>hard say whether packing lists making life eas...</td>\n",
              "      <td>84</td>\n",
              "      <td>211</td>\n",
              "      <td>251</td>\n",
              "      <td>837</td>\n",
              "      <td>1</td>\n",
              "      <td>1</td>\n",
              "      <td>8</td>\n",
              "      <td>2015</td>\n",
              "      <td>[hard, say, whether, packing, lists, making, l...</td>\n",
              "      <td>14</td>\n",
              "      <td>-0.045833</td>\n",
              "      <td>0.370833</td>\n",
              "    </tr>\n",
              "  </tbody>\n",
              "</table>\n",
              "</div>\n",
              "      <button class=\"colab-df-convert\" onclick=\"convertToInteractive('df-3075f90a-07f7-44ea-bc3b-4e536ce0a408')\"\n",
              "              title=\"Convert this dataframe to an interactive table.\"\n",
              "              style=\"display:none;\">\n",
              "        \n",
              "  <svg xmlns=\"http://www.w3.org/2000/svg\" height=\"24px\"viewBox=\"0 0 24 24\"\n",
              "       width=\"24px\">\n",
              "    <path d=\"M0 0h24v24H0V0z\" fill=\"none\"/>\n",
              "    <path d=\"M18.56 5.44l.94 2.06.94-2.06 2.06-.94-2.06-.94-.94-2.06-.94 2.06-2.06.94zm-11 1L8.5 8.5l.94-2.06 2.06-.94-2.06-.94L8.5 2.5l-.94 2.06-2.06.94zm10 10l.94 2.06.94-2.06 2.06-.94-2.06-.94-.94-2.06-.94 2.06-2.06.94z\"/><path d=\"M17.41 7.96l-1.37-1.37c-.4-.4-.92-.59-1.43-.59-.52 0-1.04.2-1.43.59L10.3 9.45l-7.72 7.72c-.78.78-.78 2.05 0 2.83L4 21.41c.39.39.9.59 1.41.59.51 0 1.02-.2 1.41-.59l7.78-7.78 2.81-2.81c.8-.78.8-2.07 0-2.86zM5.41 20L4 18.59l7.72-7.72 1.47 1.35L5.41 20z\"/>\n",
              "  </svg>\n",
              "      </button>\n",
              "      \n",
              "  <style>\n",
              "    .colab-df-container {\n",
              "      display:flex;\n",
              "      flex-wrap:wrap;\n",
              "      gap: 12px;\n",
              "    }\n",
              "\n",
              "    .colab-df-convert {\n",
              "      background-color: #E8F0FE;\n",
              "      border: none;\n",
              "      border-radius: 50%;\n",
              "      cursor: pointer;\n",
              "      display: none;\n",
              "      fill: #1967D2;\n",
              "      height: 32px;\n",
              "      padding: 0 0 0 0;\n",
              "      width: 32px;\n",
              "    }\n",
              "\n",
              "    .colab-df-convert:hover {\n",
              "      background-color: #E2EBFA;\n",
              "      box-shadow: 0px 1px 2px rgba(60, 64, 67, 0.3), 0px 1px 3px 1px rgba(60, 64, 67, 0.15);\n",
              "      fill: #174EA6;\n",
              "    }\n",
              "\n",
              "    [theme=dark] .colab-df-convert {\n",
              "      background-color: #3B4455;\n",
              "      fill: #D2E3FC;\n",
              "    }\n",
              "\n",
              "    [theme=dark] .colab-df-convert:hover {\n",
              "      background-color: #434B5C;\n",
              "      box-shadow: 0px 1px 3px 1px rgba(0, 0, 0, 0.15);\n",
              "      filter: drop-shadow(0px 1px 2px rgba(0, 0, 0, 0.3));\n",
              "      fill: #FFFFFF;\n",
              "    }\n",
              "  </style>\n",
              "\n",
              "      <script>\n",
              "        const buttonEl =\n",
              "          document.querySelector('#df-3075f90a-07f7-44ea-bc3b-4e536ce0a408 button.colab-df-convert');\n",
              "        buttonEl.style.display =\n",
              "          google.colab.kernel.accessAllowed ? 'block' : 'none';\n",
              "\n",
              "        async function convertToInteractive(key) {\n",
              "          const element = document.querySelector('#df-3075f90a-07f7-44ea-bc3b-4e536ce0a408');\n",
              "          const dataTable =\n",
              "            await google.colab.kernel.invokeFunction('convertToInteractive',\n",
              "                                                     [key], {});\n",
              "          if (!dataTable) return;\n",
              "\n",
              "          const docLinkHtml = 'Like what you see? Visit the ' +\n",
              "            '<a target=\"_blank\" href=https://colab.research.google.com/notebooks/data_table.ipynb>data table notebook</a>'\n",
              "            + ' to learn more about interactive tables.';\n",
              "          element.innerHTML = '';\n",
              "          dataTable['output_type'] = 'display_data';\n",
              "          await google.colab.output.renderOutput(dataTable, element);\n",
              "          const docLink = document.createElement('div');\n",
              "          docLink.innerHTML = docLinkHtml;\n",
              "          element.appendChild(docLink);\n",
              "        }\n",
              "      </script>\n",
              "    </div>\n",
              "  </div>\n",
              "  "
            ]
          },
          "metadata": {},
          "execution_count": 28
        }
      ]
    },
    {
      "cell_type": "code",
      "source": [
        "df_blob3[\"Sentiment\"] =  np.where(df_blob3[\"polarity\"] >= 0 , \"Positive\", \"Negative\")"
      ],
      "metadata": {
        "id": "cpGJAJ1uzPbQ"
      },
      "id": "cpGJAJ1uzPbQ",
      "execution_count": null,
      "outputs": []
    },
    {
      "cell_type": "code",
      "source": [
        "df_blob3.head()"
      ],
      "metadata": {
        "id": "hBRfWH9ZzXng",
        "colab": {
          "base_uri": "https://localhost:8080/",
          "height": 562
        },
        "outputId": "dfc0bbc6-df58-40e4-9e7b-4e595fb9b504"
      },
      "id": "hBRfWH9ZzXng",
      "execution_count": null,
      "outputs": [
        {
          "output_type": "execute_result",
          "data": {
            "text/plain": [
              "                                           post_text  followers  friends  \\\n",
              "0  years since diagnosed anxiety depression today...         84      211   \n",
              "1  sunday need break im planning spend little tim...         84      211   \n",
              "2                 awake tired need sleep brain ideas         84      211   \n",
              "3  rt sewhq retro bears make perfect gifts great ...         84      211   \n",
              "4  hard say whether packing lists making life eas...         84      211   \n",
              "\n",
              "   favourites  statuses  retweets  label  month  year  \\\n",
              "0         251       837         0      1      8  2015   \n",
              "1         251       837         1      1      8  2015   \n",
              "2         251       837         0      1      8  2015   \n",
              "3         251       837         2      1      8  2015   \n",
              "4         251       837         1      1      8  2015   \n",
              "\n",
              "                                              tokens  frequency  polarity  \\\n",
              "0  [years, since, diagnosed, anxiety, depression,...         14  0.100000   \n",
              "1  [sunday, need, break, im, planning, spend, lit...          9 -0.093750   \n",
              "2          [awake, tired, need, sleep, brain, ideas]          6 -0.400000   \n",
              "3  [rt, sewhq, retro, bears, make, perfect, gifts...         16  0.900000   \n",
              "4  [hard, say, whether, packing, lists, making, l...         14 -0.045833   \n",
              "\n",
              "   subjectivity Sentiment  \n",
              "0      1.000000  Positive  \n",
              "1      0.750000  Negative  \n",
              "2      0.700000  Negative  \n",
              "3      0.875000  Positive  \n",
              "4      0.370833  Negative  "
            ],
            "text/html": [
              "\n",
              "  <div id=\"df-52b7a25e-c8a7-4a5b-aa29-fea1fb635945\">\n",
              "    <div class=\"colab-df-container\">\n",
              "      <div>\n",
              "<style scoped>\n",
              "    .dataframe tbody tr th:only-of-type {\n",
              "        vertical-align: middle;\n",
              "    }\n",
              "\n",
              "    .dataframe tbody tr th {\n",
              "        vertical-align: top;\n",
              "    }\n",
              "\n",
              "    .dataframe thead th {\n",
              "        text-align: right;\n",
              "    }\n",
              "</style>\n",
              "<table border=\"1\" class=\"dataframe\">\n",
              "  <thead>\n",
              "    <tr style=\"text-align: right;\">\n",
              "      <th></th>\n",
              "      <th>post_text</th>\n",
              "      <th>followers</th>\n",
              "      <th>friends</th>\n",
              "      <th>favourites</th>\n",
              "      <th>statuses</th>\n",
              "      <th>retweets</th>\n",
              "      <th>label</th>\n",
              "      <th>month</th>\n",
              "      <th>year</th>\n",
              "      <th>tokens</th>\n",
              "      <th>frequency</th>\n",
              "      <th>polarity</th>\n",
              "      <th>subjectivity</th>\n",
              "      <th>Sentiment</th>\n",
              "    </tr>\n",
              "  </thead>\n",
              "  <tbody>\n",
              "    <tr>\n",
              "      <th>0</th>\n",
              "      <td>years since diagnosed anxiety depression today...</td>\n",
              "      <td>84</td>\n",
              "      <td>211</td>\n",
              "      <td>251</td>\n",
              "      <td>837</td>\n",
              "      <td>0</td>\n",
              "      <td>1</td>\n",
              "      <td>8</td>\n",
              "      <td>2015</td>\n",
              "      <td>[years, since, diagnosed, anxiety, depression,...</td>\n",
              "      <td>14</td>\n",
              "      <td>0.100000</td>\n",
              "      <td>1.000000</td>\n",
              "      <td>Positive</td>\n",
              "    </tr>\n",
              "    <tr>\n",
              "      <th>1</th>\n",
              "      <td>sunday need break im planning spend little tim...</td>\n",
              "      <td>84</td>\n",
              "      <td>211</td>\n",
              "      <td>251</td>\n",
              "      <td>837</td>\n",
              "      <td>1</td>\n",
              "      <td>1</td>\n",
              "      <td>8</td>\n",
              "      <td>2015</td>\n",
              "      <td>[sunday, need, break, im, planning, spend, lit...</td>\n",
              "      <td>9</td>\n",
              "      <td>-0.093750</td>\n",
              "      <td>0.750000</td>\n",
              "      <td>Negative</td>\n",
              "    </tr>\n",
              "    <tr>\n",
              "      <th>2</th>\n",
              "      <td>awake tired need sleep brain ideas</td>\n",
              "      <td>84</td>\n",
              "      <td>211</td>\n",
              "      <td>251</td>\n",
              "      <td>837</td>\n",
              "      <td>0</td>\n",
              "      <td>1</td>\n",
              "      <td>8</td>\n",
              "      <td>2015</td>\n",
              "      <td>[awake, tired, need, sleep, brain, ideas]</td>\n",
              "      <td>6</td>\n",
              "      <td>-0.400000</td>\n",
              "      <td>0.700000</td>\n",
              "      <td>Negative</td>\n",
              "    </tr>\n",
              "    <tr>\n",
              "      <th>3</th>\n",
              "      <td>rt sewhq retro bears make perfect gifts great ...</td>\n",
              "      <td>84</td>\n",
              "      <td>211</td>\n",
              "      <td>251</td>\n",
              "      <td>837</td>\n",
              "      <td>2</td>\n",
              "      <td>1</td>\n",
              "      <td>8</td>\n",
              "      <td>2015</td>\n",
              "      <td>[rt, sewhq, retro, bears, make, perfect, gifts...</td>\n",
              "      <td>16</td>\n",
              "      <td>0.900000</td>\n",
              "      <td>0.875000</td>\n",
              "      <td>Positive</td>\n",
              "    </tr>\n",
              "    <tr>\n",
              "      <th>4</th>\n",
              "      <td>hard say whether packing lists making life eas...</td>\n",
              "      <td>84</td>\n",
              "      <td>211</td>\n",
              "      <td>251</td>\n",
              "      <td>837</td>\n",
              "      <td>1</td>\n",
              "      <td>1</td>\n",
              "      <td>8</td>\n",
              "      <td>2015</td>\n",
              "      <td>[hard, say, whether, packing, lists, making, l...</td>\n",
              "      <td>14</td>\n",
              "      <td>-0.045833</td>\n",
              "      <td>0.370833</td>\n",
              "      <td>Negative</td>\n",
              "    </tr>\n",
              "  </tbody>\n",
              "</table>\n",
              "</div>\n",
              "      <button class=\"colab-df-convert\" onclick=\"convertToInteractive('df-52b7a25e-c8a7-4a5b-aa29-fea1fb635945')\"\n",
              "              title=\"Convert this dataframe to an interactive table.\"\n",
              "              style=\"display:none;\">\n",
              "        \n",
              "  <svg xmlns=\"http://www.w3.org/2000/svg\" height=\"24px\"viewBox=\"0 0 24 24\"\n",
              "       width=\"24px\">\n",
              "    <path d=\"M0 0h24v24H0V0z\" fill=\"none\"/>\n",
              "    <path d=\"M18.56 5.44l.94 2.06.94-2.06 2.06-.94-2.06-.94-.94-2.06-.94 2.06-2.06.94zm-11 1L8.5 8.5l.94-2.06 2.06-.94-2.06-.94L8.5 2.5l-.94 2.06-2.06.94zm10 10l.94 2.06.94-2.06 2.06-.94-2.06-.94-.94-2.06-.94 2.06-2.06.94z\"/><path d=\"M17.41 7.96l-1.37-1.37c-.4-.4-.92-.59-1.43-.59-.52 0-1.04.2-1.43.59L10.3 9.45l-7.72 7.72c-.78.78-.78 2.05 0 2.83L4 21.41c.39.39.9.59 1.41.59.51 0 1.02-.2 1.41-.59l7.78-7.78 2.81-2.81c.8-.78.8-2.07 0-2.86zM5.41 20L4 18.59l7.72-7.72 1.47 1.35L5.41 20z\"/>\n",
              "  </svg>\n",
              "      </button>\n",
              "      \n",
              "  <style>\n",
              "    .colab-df-container {\n",
              "      display:flex;\n",
              "      flex-wrap:wrap;\n",
              "      gap: 12px;\n",
              "    }\n",
              "\n",
              "    .colab-df-convert {\n",
              "      background-color: #E8F0FE;\n",
              "      border: none;\n",
              "      border-radius: 50%;\n",
              "      cursor: pointer;\n",
              "      display: none;\n",
              "      fill: #1967D2;\n",
              "      height: 32px;\n",
              "      padding: 0 0 0 0;\n",
              "      width: 32px;\n",
              "    }\n",
              "\n",
              "    .colab-df-convert:hover {\n",
              "      background-color: #E2EBFA;\n",
              "      box-shadow: 0px 1px 2px rgba(60, 64, 67, 0.3), 0px 1px 3px 1px rgba(60, 64, 67, 0.15);\n",
              "      fill: #174EA6;\n",
              "    }\n",
              "\n",
              "    [theme=dark] .colab-df-convert {\n",
              "      background-color: #3B4455;\n",
              "      fill: #D2E3FC;\n",
              "    }\n",
              "\n",
              "    [theme=dark] .colab-df-convert:hover {\n",
              "      background-color: #434B5C;\n",
              "      box-shadow: 0px 1px 3px 1px rgba(0, 0, 0, 0.15);\n",
              "      filter: drop-shadow(0px 1px 2px rgba(0, 0, 0, 0.3));\n",
              "      fill: #FFFFFF;\n",
              "    }\n",
              "  </style>\n",
              "\n",
              "      <script>\n",
              "        const buttonEl =\n",
              "          document.querySelector('#df-52b7a25e-c8a7-4a5b-aa29-fea1fb635945 button.colab-df-convert');\n",
              "        buttonEl.style.display =\n",
              "          google.colab.kernel.accessAllowed ? 'block' : 'none';\n",
              "\n",
              "        async function convertToInteractive(key) {\n",
              "          const element = document.querySelector('#df-52b7a25e-c8a7-4a5b-aa29-fea1fb635945');\n",
              "          const dataTable =\n",
              "            await google.colab.kernel.invokeFunction('convertToInteractive',\n",
              "                                                     [key], {});\n",
              "          if (!dataTable) return;\n",
              "\n",
              "          const docLinkHtml = 'Like what you see? Visit the ' +\n",
              "            '<a target=\"_blank\" href=https://colab.research.google.com/notebooks/data_table.ipynb>data table notebook</a>'\n",
              "            + ' to learn more about interactive tables.';\n",
              "          element.innerHTML = '';\n",
              "          dataTable['output_type'] = 'display_data';\n",
              "          await google.colab.output.renderOutput(dataTable, element);\n",
              "          const docLink = document.createElement('div');\n",
              "          docLink.innerHTML = docLinkHtml;\n",
              "          element.appendChild(docLink);\n",
              "        }\n",
              "      </script>\n",
              "    </div>\n",
              "  </div>\n",
              "  "
            ]
          },
          "metadata": {},
          "execution_count": 30
        }
      ]
    },
    {
      "cell_type": "code",
      "source": [
        "from sklearn.preprocessing import LabelEncoder\n",
        "encoder=LabelEncoder()"
      ],
      "metadata": {
        "id": "wk8Epd8rTwuP"
      },
      "id": "wk8Epd8rTwuP",
      "execution_count": null,
      "outputs": []
    },
    {
      "cell_type": "code",
      "source": [
        "df_blob3['Sentiment']=encoder.fit_transform(df_blob3['Sentiment'])"
      ],
      "metadata": {
        "id": "gZbskVnF6nd9"
      },
      "id": "gZbskVnF6nd9",
      "execution_count": null,
      "outputs": []
    },
    {
      "cell_type": "code",
      "source": [
        "df_blob3.head()"
      ],
      "metadata": {
        "id": "Vwy1bYZ86_7c",
        "colab": {
          "base_uri": "https://localhost:8080/",
          "height": 562
        },
        "outputId": "8791016d-f35f-4497-d36f-a08c46a94fb6"
      },
      "id": "Vwy1bYZ86_7c",
      "execution_count": null,
      "outputs": [
        {
          "output_type": "execute_result",
          "data": {
            "text/plain": [
              "                                           post_text  followers  friends  \\\n",
              "0  years since diagnosed anxiety depression today...         84      211   \n",
              "1  sunday need break im planning spend little tim...         84      211   \n",
              "2                 awake tired need sleep brain ideas         84      211   \n",
              "3  rt sewhq retro bears make perfect gifts great ...         84      211   \n",
              "4  hard say whether packing lists making life eas...         84      211   \n",
              "\n",
              "   favourites  statuses  retweets  label  month  year  \\\n",
              "0         251       837         0      1      8  2015   \n",
              "1         251       837         1      1      8  2015   \n",
              "2         251       837         0      1      8  2015   \n",
              "3         251       837         2      1      8  2015   \n",
              "4         251       837         1      1      8  2015   \n",
              "\n",
              "                                              tokens  frequency  polarity  \\\n",
              "0  [years, since, diagnosed, anxiety, depression,...         14  0.100000   \n",
              "1  [sunday, need, break, im, planning, spend, lit...          9 -0.093750   \n",
              "2          [awake, tired, need, sleep, brain, ideas]          6 -0.400000   \n",
              "3  [rt, sewhq, retro, bears, make, perfect, gifts...         16  0.900000   \n",
              "4  [hard, say, whether, packing, lists, making, l...         14 -0.045833   \n",
              "\n",
              "   subjectivity  Sentiment  \n",
              "0      1.000000          1  \n",
              "1      0.750000          0  \n",
              "2      0.700000          0  \n",
              "3      0.875000          1  \n",
              "4      0.370833          0  "
            ],
            "text/html": [
              "\n",
              "  <div id=\"df-578904e0-42af-477b-834c-da7add165418\">\n",
              "    <div class=\"colab-df-container\">\n",
              "      <div>\n",
              "<style scoped>\n",
              "    .dataframe tbody tr th:only-of-type {\n",
              "        vertical-align: middle;\n",
              "    }\n",
              "\n",
              "    .dataframe tbody tr th {\n",
              "        vertical-align: top;\n",
              "    }\n",
              "\n",
              "    .dataframe thead th {\n",
              "        text-align: right;\n",
              "    }\n",
              "</style>\n",
              "<table border=\"1\" class=\"dataframe\">\n",
              "  <thead>\n",
              "    <tr style=\"text-align: right;\">\n",
              "      <th></th>\n",
              "      <th>post_text</th>\n",
              "      <th>followers</th>\n",
              "      <th>friends</th>\n",
              "      <th>favourites</th>\n",
              "      <th>statuses</th>\n",
              "      <th>retweets</th>\n",
              "      <th>label</th>\n",
              "      <th>month</th>\n",
              "      <th>year</th>\n",
              "      <th>tokens</th>\n",
              "      <th>frequency</th>\n",
              "      <th>polarity</th>\n",
              "      <th>subjectivity</th>\n",
              "      <th>Sentiment</th>\n",
              "    </tr>\n",
              "  </thead>\n",
              "  <tbody>\n",
              "    <tr>\n",
              "      <th>0</th>\n",
              "      <td>years since diagnosed anxiety depression today...</td>\n",
              "      <td>84</td>\n",
              "      <td>211</td>\n",
              "      <td>251</td>\n",
              "      <td>837</td>\n",
              "      <td>0</td>\n",
              "      <td>1</td>\n",
              "      <td>8</td>\n",
              "      <td>2015</td>\n",
              "      <td>[years, since, diagnosed, anxiety, depression,...</td>\n",
              "      <td>14</td>\n",
              "      <td>0.100000</td>\n",
              "      <td>1.000000</td>\n",
              "      <td>1</td>\n",
              "    </tr>\n",
              "    <tr>\n",
              "      <th>1</th>\n",
              "      <td>sunday need break im planning spend little tim...</td>\n",
              "      <td>84</td>\n",
              "      <td>211</td>\n",
              "      <td>251</td>\n",
              "      <td>837</td>\n",
              "      <td>1</td>\n",
              "      <td>1</td>\n",
              "      <td>8</td>\n",
              "      <td>2015</td>\n",
              "      <td>[sunday, need, break, im, planning, spend, lit...</td>\n",
              "      <td>9</td>\n",
              "      <td>-0.093750</td>\n",
              "      <td>0.750000</td>\n",
              "      <td>0</td>\n",
              "    </tr>\n",
              "    <tr>\n",
              "      <th>2</th>\n",
              "      <td>awake tired need sleep brain ideas</td>\n",
              "      <td>84</td>\n",
              "      <td>211</td>\n",
              "      <td>251</td>\n",
              "      <td>837</td>\n",
              "      <td>0</td>\n",
              "      <td>1</td>\n",
              "      <td>8</td>\n",
              "      <td>2015</td>\n",
              "      <td>[awake, tired, need, sleep, brain, ideas]</td>\n",
              "      <td>6</td>\n",
              "      <td>-0.400000</td>\n",
              "      <td>0.700000</td>\n",
              "      <td>0</td>\n",
              "    </tr>\n",
              "    <tr>\n",
              "      <th>3</th>\n",
              "      <td>rt sewhq retro bears make perfect gifts great ...</td>\n",
              "      <td>84</td>\n",
              "      <td>211</td>\n",
              "      <td>251</td>\n",
              "      <td>837</td>\n",
              "      <td>2</td>\n",
              "      <td>1</td>\n",
              "      <td>8</td>\n",
              "      <td>2015</td>\n",
              "      <td>[rt, sewhq, retro, bears, make, perfect, gifts...</td>\n",
              "      <td>16</td>\n",
              "      <td>0.900000</td>\n",
              "      <td>0.875000</td>\n",
              "      <td>1</td>\n",
              "    </tr>\n",
              "    <tr>\n",
              "      <th>4</th>\n",
              "      <td>hard say whether packing lists making life eas...</td>\n",
              "      <td>84</td>\n",
              "      <td>211</td>\n",
              "      <td>251</td>\n",
              "      <td>837</td>\n",
              "      <td>1</td>\n",
              "      <td>1</td>\n",
              "      <td>8</td>\n",
              "      <td>2015</td>\n",
              "      <td>[hard, say, whether, packing, lists, making, l...</td>\n",
              "      <td>14</td>\n",
              "      <td>-0.045833</td>\n",
              "      <td>0.370833</td>\n",
              "      <td>0</td>\n",
              "    </tr>\n",
              "  </tbody>\n",
              "</table>\n",
              "</div>\n",
              "      <button class=\"colab-df-convert\" onclick=\"convertToInteractive('df-578904e0-42af-477b-834c-da7add165418')\"\n",
              "              title=\"Convert this dataframe to an interactive table.\"\n",
              "              style=\"display:none;\">\n",
              "        \n",
              "  <svg xmlns=\"http://www.w3.org/2000/svg\" height=\"24px\"viewBox=\"0 0 24 24\"\n",
              "       width=\"24px\">\n",
              "    <path d=\"M0 0h24v24H0V0z\" fill=\"none\"/>\n",
              "    <path d=\"M18.56 5.44l.94 2.06.94-2.06 2.06-.94-2.06-.94-.94-2.06-.94 2.06-2.06.94zm-11 1L8.5 8.5l.94-2.06 2.06-.94-2.06-.94L8.5 2.5l-.94 2.06-2.06.94zm10 10l.94 2.06.94-2.06 2.06-.94-2.06-.94-.94-2.06-.94 2.06-2.06.94z\"/><path d=\"M17.41 7.96l-1.37-1.37c-.4-.4-.92-.59-1.43-.59-.52 0-1.04.2-1.43.59L10.3 9.45l-7.72 7.72c-.78.78-.78 2.05 0 2.83L4 21.41c.39.39.9.59 1.41.59.51 0 1.02-.2 1.41-.59l7.78-7.78 2.81-2.81c.8-.78.8-2.07 0-2.86zM5.41 20L4 18.59l7.72-7.72 1.47 1.35L5.41 20z\"/>\n",
              "  </svg>\n",
              "      </button>\n",
              "      \n",
              "  <style>\n",
              "    .colab-df-container {\n",
              "      display:flex;\n",
              "      flex-wrap:wrap;\n",
              "      gap: 12px;\n",
              "    }\n",
              "\n",
              "    .colab-df-convert {\n",
              "      background-color: #E8F0FE;\n",
              "      border: none;\n",
              "      border-radius: 50%;\n",
              "      cursor: pointer;\n",
              "      display: none;\n",
              "      fill: #1967D2;\n",
              "      height: 32px;\n",
              "      padding: 0 0 0 0;\n",
              "      width: 32px;\n",
              "    }\n",
              "\n",
              "    .colab-df-convert:hover {\n",
              "      background-color: #E2EBFA;\n",
              "      box-shadow: 0px 1px 2px rgba(60, 64, 67, 0.3), 0px 1px 3px 1px rgba(60, 64, 67, 0.15);\n",
              "      fill: #174EA6;\n",
              "    }\n",
              "\n",
              "    [theme=dark] .colab-df-convert {\n",
              "      background-color: #3B4455;\n",
              "      fill: #D2E3FC;\n",
              "    }\n",
              "\n",
              "    [theme=dark] .colab-df-convert:hover {\n",
              "      background-color: #434B5C;\n",
              "      box-shadow: 0px 1px 3px 1px rgba(0, 0, 0, 0.15);\n",
              "      filter: drop-shadow(0px 1px 2px rgba(0, 0, 0, 0.3));\n",
              "      fill: #FFFFFF;\n",
              "    }\n",
              "  </style>\n",
              "\n",
              "      <script>\n",
              "        const buttonEl =\n",
              "          document.querySelector('#df-578904e0-42af-477b-834c-da7add165418 button.colab-df-convert');\n",
              "        buttonEl.style.display =\n",
              "          google.colab.kernel.accessAllowed ? 'block' : 'none';\n",
              "\n",
              "        async function convertToInteractive(key) {\n",
              "          const element = document.querySelector('#df-578904e0-42af-477b-834c-da7add165418');\n",
              "          const dataTable =\n",
              "            await google.colab.kernel.invokeFunction('convertToInteractive',\n",
              "                                                     [key], {});\n",
              "          if (!dataTable) return;\n",
              "\n",
              "          const docLinkHtml = 'Like what you see? Visit the ' +\n",
              "            '<a target=\"_blank\" href=https://colab.research.google.com/notebooks/data_table.ipynb>data table notebook</a>'\n",
              "            + ' to learn more about interactive tables.';\n",
              "          element.innerHTML = '';\n",
              "          dataTable['output_type'] = 'display_data';\n",
              "          await google.colab.output.renderOutput(dataTable, element);\n",
              "          const docLink = document.createElement('div');\n",
              "          docLink.innerHTML = docLinkHtml;\n",
              "          element.appendChild(docLink);\n",
              "        }\n",
              "      </script>\n",
              "    </div>\n",
              "  </div>\n",
              "  "
            ]
          },
          "metadata": {},
          "execution_count": 33
        }
      ]
    },
    {
      "cell_type": "code",
      "source": [
        "df_blob3[\"tokens\"] = df_blob3[\"tokens\"].apply(lambda x: \" \".join(x))\n"
      ],
      "metadata": {
        "id": "zoLMNvKQ-ll8"
      },
      "id": "zoLMNvKQ-ll8",
      "execution_count": null,
      "outputs": []
    },
    {
      "cell_type": "code",
      "source": [
        "df_blob3.head()\n"
      ],
      "metadata": {
        "id": "4fvAf93-Bte1",
        "colab": {
          "base_uri": "https://localhost:8080/",
          "height": 545
        },
        "outputId": "dc684dc2-63a7-4822-861b-1dc08fe0220b"
      },
      "id": "4fvAf93-Bte1",
      "execution_count": null,
      "outputs": [
        {
          "output_type": "execute_result",
          "data": {
            "text/plain": [
              "                                           post_text  followers  friends  \\\n",
              "0  years since diagnosed anxiety depression today...         84      211   \n",
              "1  sunday need break im planning spend little tim...         84      211   \n",
              "2                 awake tired need sleep brain ideas         84      211   \n",
              "3  rt sewhq retro bears make perfect gifts great ...         84      211   \n",
              "4  hard say whether packing lists making life eas...         84      211   \n",
              "\n",
              "   favourites  statuses  retweets  label  month  year  \\\n",
              "0         251       837         0      1      8  2015   \n",
              "1         251       837         1      1      8  2015   \n",
              "2         251       837         0      1      8  2015   \n",
              "3         251       837         2      1      8  2015   \n",
              "4         251       837         1      1      8  2015   \n",
              "\n",
              "                                              tokens  frequency  polarity  \\\n",
              "0  years since diagnosed anxiety depression today...         14  0.100000   \n",
              "1  sunday need break im planning spend little tim...          9 -0.093750   \n",
              "2                 awake tired need sleep brain ideas          6 -0.400000   \n",
              "3  rt sewhq retro bears make perfect gifts great ...         16  0.900000   \n",
              "4  hard say whether packing lists making life eas...         14 -0.045833   \n",
              "\n",
              "   subjectivity  Sentiment  \n",
              "0      1.000000          1  \n",
              "1      0.750000          0  \n",
              "2      0.700000          0  \n",
              "3      0.875000          1  \n",
              "4      0.370833          0  "
            ],
            "text/html": [
              "\n",
              "  <div id=\"df-96a71e30-f460-4df4-b2da-edb37afaaf0e\">\n",
              "    <div class=\"colab-df-container\">\n",
              "      <div>\n",
              "<style scoped>\n",
              "    .dataframe tbody tr th:only-of-type {\n",
              "        vertical-align: middle;\n",
              "    }\n",
              "\n",
              "    .dataframe tbody tr th {\n",
              "        vertical-align: top;\n",
              "    }\n",
              "\n",
              "    .dataframe thead th {\n",
              "        text-align: right;\n",
              "    }\n",
              "</style>\n",
              "<table border=\"1\" class=\"dataframe\">\n",
              "  <thead>\n",
              "    <tr style=\"text-align: right;\">\n",
              "      <th></th>\n",
              "      <th>post_text</th>\n",
              "      <th>followers</th>\n",
              "      <th>friends</th>\n",
              "      <th>favourites</th>\n",
              "      <th>statuses</th>\n",
              "      <th>retweets</th>\n",
              "      <th>label</th>\n",
              "      <th>month</th>\n",
              "      <th>year</th>\n",
              "      <th>tokens</th>\n",
              "      <th>frequency</th>\n",
              "      <th>polarity</th>\n",
              "      <th>subjectivity</th>\n",
              "      <th>Sentiment</th>\n",
              "    </tr>\n",
              "  </thead>\n",
              "  <tbody>\n",
              "    <tr>\n",
              "      <th>0</th>\n",
              "      <td>years since diagnosed anxiety depression today...</td>\n",
              "      <td>84</td>\n",
              "      <td>211</td>\n",
              "      <td>251</td>\n",
              "      <td>837</td>\n",
              "      <td>0</td>\n",
              "      <td>1</td>\n",
              "      <td>8</td>\n",
              "      <td>2015</td>\n",
              "      <td>years since diagnosed anxiety depression today...</td>\n",
              "      <td>14</td>\n",
              "      <td>0.100000</td>\n",
              "      <td>1.000000</td>\n",
              "      <td>1</td>\n",
              "    </tr>\n",
              "    <tr>\n",
              "      <th>1</th>\n",
              "      <td>sunday need break im planning spend little tim...</td>\n",
              "      <td>84</td>\n",
              "      <td>211</td>\n",
              "      <td>251</td>\n",
              "      <td>837</td>\n",
              "      <td>1</td>\n",
              "      <td>1</td>\n",
              "      <td>8</td>\n",
              "      <td>2015</td>\n",
              "      <td>sunday need break im planning spend little tim...</td>\n",
              "      <td>9</td>\n",
              "      <td>-0.093750</td>\n",
              "      <td>0.750000</td>\n",
              "      <td>0</td>\n",
              "    </tr>\n",
              "    <tr>\n",
              "      <th>2</th>\n",
              "      <td>awake tired need sleep brain ideas</td>\n",
              "      <td>84</td>\n",
              "      <td>211</td>\n",
              "      <td>251</td>\n",
              "      <td>837</td>\n",
              "      <td>0</td>\n",
              "      <td>1</td>\n",
              "      <td>8</td>\n",
              "      <td>2015</td>\n",
              "      <td>awake tired need sleep brain ideas</td>\n",
              "      <td>6</td>\n",
              "      <td>-0.400000</td>\n",
              "      <td>0.700000</td>\n",
              "      <td>0</td>\n",
              "    </tr>\n",
              "    <tr>\n",
              "      <th>3</th>\n",
              "      <td>rt sewhq retro bears make perfect gifts great ...</td>\n",
              "      <td>84</td>\n",
              "      <td>211</td>\n",
              "      <td>251</td>\n",
              "      <td>837</td>\n",
              "      <td>2</td>\n",
              "      <td>1</td>\n",
              "      <td>8</td>\n",
              "      <td>2015</td>\n",
              "      <td>rt sewhq retro bears make perfect gifts great ...</td>\n",
              "      <td>16</td>\n",
              "      <td>0.900000</td>\n",
              "      <td>0.875000</td>\n",
              "      <td>1</td>\n",
              "    </tr>\n",
              "    <tr>\n",
              "      <th>4</th>\n",
              "      <td>hard say whether packing lists making life eas...</td>\n",
              "      <td>84</td>\n",
              "      <td>211</td>\n",
              "      <td>251</td>\n",
              "      <td>837</td>\n",
              "      <td>1</td>\n",
              "      <td>1</td>\n",
              "      <td>8</td>\n",
              "      <td>2015</td>\n",
              "      <td>hard say whether packing lists making life eas...</td>\n",
              "      <td>14</td>\n",
              "      <td>-0.045833</td>\n",
              "      <td>0.370833</td>\n",
              "      <td>0</td>\n",
              "    </tr>\n",
              "  </tbody>\n",
              "</table>\n",
              "</div>\n",
              "      <button class=\"colab-df-convert\" onclick=\"convertToInteractive('df-96a71e30-f460-4df4-b2da-edb37afaaf0e')\"\n",
              "              title=\"Convert this dataframe to an interactive table.\"\n",
              "              style=\"display:none;\">\n",
              "        \n",
              "  <svg xmlns=\"http://www.w3.org/2000/svg\" height=\"24px\"viewBox=\"0 0 24 24\"\n",
              "       width=\"24px\">\n",
              "    <path d=\"M0 0h24v24H0V0z\" fill=\"none\"/>\n",
              "    <path d=\"M18.56 5.44l.94 2.06.94-2.06 2.06-.94-2.06-.94-.94-2.06-.94 2.06-2.06.94zm-11 1L8.5 8.5l.94-2.06 2.06-.94-2.06-.94L8.5 2.5l-.94 2.06-2.06.94zm10 10l.94 2.06.94-2.06 2.06-.94-2.06-.94-.94-2.06-.94 2.06-2.06.94z\"/><path d=\"M17.41 7.96l-1.37-1.37c-.4-.4-.92-.59-1.43-.59-.52 0-1.04.2-1.43.59L10.3 9.45l-7.72 7.72c-.78.78-.78 2.05 0 2.83L4 21.41c.39.39.9.59 1.41.59.51 0 1.02-.2 1.41-.59l7.78-7.78 2.81-2.81c.8-.78.8-2.07 0-2.86zM5.41 20L4 18.59l7.72-7.72 1.47 1.35L5.41 20z\"/>\n",
              "  </svg>\n",
              "      </button>\n",
              "      \n",
              "  <style>\n",
              "    .colab-df-container {\n",
              "      display:flex;\n",
              "      flex-wrap:wrap;\n",
              "      gap: 12px;\n",
              "    }\n",
              "\n",
              "    .colab-df-convert {\n",
              "      background-color: #E8F0FE;\n",
              "      border: none;\n",
              "      border-radius: 50%;\n",
              "      cursor: pointer;\n",
              "      display: none;\n",
              "      fill: #1967D2;\n",
              "      height: 32px;\n",
              "      padding: 0 0 0 0;\n",
              "      width: 32px;\n",
              "    }\n",
              "\n",
              "    .colab-df-convert:hover {\n",
              "      background-color: #E2EBFA;\n",
              "      box-shadow: 0px 1px 2px rgba(60, 64, 67, 0.3), 0px 1px 3px 1px rgba(60, 64, 67, 0.15);\n",
              "      fill: #174EA6;\n",
              "    }\n",
              "\n",
              "    [theme=dark] .colab-df-convert {\n",
              "      background-color: #3B4455;\n",
              "      fill: #D2E3FC;\n",
              "    }\n",
              "\n",
              "    [theme=dark] .colab-df-convert:hover {\n",
              "      background-color: #434B5C;\n",
              "      box-shadow: 0px 1px 3px 1px rgba(0, 0, 0, 0.15);\n",
              "      filter: drop-shadow(0px 1px 2px rgba(0, 0, 0, 0.3));\n",
              "      fill: #FFFFFF;\n",
              "    }\n",
              "  </style>\n",
              "\n",
              "      <script>\n",
              "        const buttonEl =\n",
              "          document.querySelector('#df-96a71e30-f460-4df4-b2da-edb37afaaf0e button.colab-df-convert');\n",
              "        buttonEl.style.display =\n",
              "          google.colab.kernel.accessAllowed ? 'block' : 'none';\n",
              "\n",
              "        async function convertToInteractive(key) {\n",
              "          const element = document.querySelector('#df-96a71e30-f460-4df4-b2da-edb37afaaf0e');\n",
              "          const dataTable =\n",
              "            await google.colab.kernel.invokeFunction('convertToInteractive',\n",
              "                                                     [key], {});\n",
              "          if (!dataTable) return;\n",
              "\n",
              "          const docLinkHtml = 'Like what you see? Visit the ' +\n",
              "            '<a target=\"_blank\" href=https://colab.research.google.com/notebooks/data_table.ipynb>data table notebook</a>'\n",
              "            + ' to learn more about interactive tables.';\n",
              "          element.innerHTML = '';\n",
              "          dataTable['output_type'] = 'display_data';\n",
              "          await google.colab.output.renderOutput(dataTable, element);\n",
              "          const docLink = document.createElement('div');\n",
              "          docLink.innerHTML = docLinkHtml;\n",
              "          element.appendChild(docLink);\n",
              "        }\n",
              "      </script>\n",
              "    </div>\n",
              "  </div>\n",
              "  "
            ]
          },
          "metadata": {},
          "execution_count": 35
        }
      ]
    },
    {
      "cell_type": "code",
      "source": [
        "#Checking which words are used most for negative sentiments\n",
        "from wordcloud import WordCloud\n",
        "wc = WordCloud(width=500,height=500,min_font_size=10,background_color='white')"
      ],
      "metadata": {
        "id": "T-4JaJZCCxKN"
      },
      "id": "T-4JaJZCCxKN",
      "execution_count": null,
      "outputs": []
    },
    {
      "cell_type": "code",
      "source": [
        "negative_wc = wc.generate(df_blob3[df_blob3['Sentiment'] == 0]['tokens'].str.cat(sep=\" \"))\n",
        "plt.figure(figsize=(15,6))\n",
        "plt.imshow(negative_wc)"
      ],
      "metadata": {
        "id": "yuxjRhgsC5Zc",
        "colab": {
          "base_uri": "https://localhost:8080/",
          "height": 395
        },
        "outputId": "f0485a73-11a0-4142-d4dd-ad4bc9864e41"
      },
      "id": "yuxjRhgsC5Zc",
      "execution_count": null,
      "outputs": [
        {
          "output_type": "execute_result",
          "data": {
            "text/plain": [
              "<matplotlib.image.AxesImage at 0x7f3a7da241c0>"
            ]
          },
          "metadata": {},
          "execution_count": 37
        },
        {
          "output_type": "display_data",
          "data": {
            "text/plain": [
              "<Figure size 1080x432 with 1 Axes>"
            ],
            "image/png": "[encoded data removed]"
          },
          "metadata": {
            "needs_background": "light"
          }
        }
      ]
    },
    {
      "cell_type": "code",
      "source": [
        "#Text Vectorization \n",
        "from sklearn.feature_extraction.text import CountVectorizer,TfidfVectorizer\n",
        "cv=CountVectorizer()\n",
        "tfidf = TfidfVectorizer(max_features=3000)"
      ],
      "metadata": {
        "id": "NuPNJANJDOfl"
      },
      "id": "NuPNJANJDOfl",
      "execution_count": null,
      "outputs": []
    },
    {
      "cell_type": "code",
      "source": [
        "X = tfidf.fit_transform(df_blob3['tokens']).toarray()"
      ],
      "metadata": {
        "id": "uh7QIxi2VnLo"
      },
      "id": "uh7QIxi2VnLo",
      "execution_count": null,
      "outputs": []
    },
    {
      "cell_type": "code",
      "source": [
        "X.shape"
      ],
      "metadata": {
        "colab": {
          "base_uri": "https://localhost:8080/"
        },
        "id": "VaGXm8YiV4VA",
        "outputId": "b338dc98-47ab-4f7c-e6c2-e2f36c163fa6"
      },
      "id": "VaGXm8YiV4VA",
      "execution_count": null,
      "outputs": [
        {
          "output_type": "execute_result",
          "data": {
            "text/plain": [
              "(20000, 3000)"
            ]
          },
          "metadata": {},
          "execution_count": 40
        }
      ]
    },
    {
      "cell_type": "code",
      "source": [
        "y = df_blob3['Sentiment'].values"
      ],
      "metadata": {
        "id": "KRa9KpqIWaO4"
      },
      "id": "KRa9KpqIWaO4",
      "execution_count": null,
      "outputs": []
    },
    {
      "cell_type": "code",
      "source": [
        "y"
      ],
      "metadata": {
        "colab": {
          "base_uri": "https://localhost:8080/"
        },
        "id": "guJ9d2FXWeyg",
        "outputId": "5d59a8b0-f606-4c4a-f85a-70a42d19e2ac"
      },
      "id": "guJ9d2FXWeyg",
      "execution_count": null,
      "outputs": [
        {
          "output_type": "execute_result",
          "data": {
            "text/plain": [
              "array([1, 0, 0, ..., 1, 1, 0])"
            ]
          },
          "metadata": {},
          "execution_count": 42
        }
      ]
    },
    {
      "cell_type": "code",
      "source": [
        "from sklearn.model_selection import train_test_split\n"
      ],
      "metadata": {
        "id": "4JxRfzNx63gC"
      },
      "id": "4JxRfzNx63gC",
      "execution_count": null,
      "outputs": []
    },
    {
      "cell_type": "code",
      "source": [
        "X_train,X_test,y_train,y_test = train_test_split(X,y,test_size=0.2,random_state=2)\n"
      ],
      "metadata": {
        "id": "Eet7nUxQ69JM"
      },
      "id": "Eet7nUxQ69JM",
      "execution_count": null,
      "outputs": []
    },
    {
      "cell_type": "code",
      "source": [
        "from sklearn.ensemble import RandomForestClassifier\n",
        "from sklearn.metrics import accuracy_score,confusion_matrix,precision_score\n",
        "from sklearn.naive_bayes import GaussianNB,MultinomialNB,BernoulliNB"
      ],
      "metadata": {
        "id": "O4rpW1wT1UOc"
      },
      "id": "O4rpW1wT1UOc",
      "execution_count": null,
      "outputs": []
    },
    {
      "cell_type": "code",
      "source": [
        "gnb = GaussianNB()\n",
        "mnb = MultinomialNB()\n",
        "bnb = BernoulliNB()"
      ],
      "metadata": {
        "id": "FKgXgAHq6Gyp"
      },
      "id": "FKgXgAHq6Gyp",
      "execution_count": null,
      "outputs": []
    },
    {
      "cell_type": "code",
      "source": [
        "gnb.fit(X_train,y_train)\n",
        "y_pred1 = gnb.predict(X_test)\n",
        "print(accuracy_score(y_test,y_pred1))\n",
        "print(confusion_matrix(y_test,y_pred1))\n",
        "print(precision_score(y_test,y_pred1))"
      ],
      "metadata": {
        "colab": {
          "base_uri": "https://localhost:8080/"
        },
        "id": "hed_SZMbWM8E",
        "outputId": "da815896-fbcc-4abb-92aa-3b383c0165a0"
      },
      "id": "hed_SZMbWM8E",
      "execution_count": null,
      "outputs": [
        {
          "output_type": "stream",
          "name": "stdout",
          "text": [
            "0.4285\n",
            "[[ 593  121]\n",
            " [2165 1121]]\n",
            "0.9025764895330113\n"
          ]
        }
      ]
    },
    {
      "cell_type": "code",
      "source": [
        "mnb.fit(X_train,y_train)\n",
        "y_pred2 = mnb.predict(X_test)\n",
        "print(accuracy_score(y_test,y_pred2))\n",
        "print(confusion_matrix(y_test,y_pred2))\n",
        "print(precision_score(y_test,y_pred2))"
      ],
      "metadata": {
        "colab": {
          "base_uri": "https://localhost:8080/"
        },
        "id": "q-kr7S2WYFLn",
        "outputId": "a19ce230-2a27-4a90-8b01-590fae1a7549"
      },
      "id": "q-kr7S2WYFLn",
      "execution_count": null,
      "outputs": [
        {
          "output_type": "stream",
          "name": "stdout",
          "text": [
            "0.87025\n",
            "[[ 203  511]\n",
            " [   8 3278]]\n",
            "0.8651359197677487\n"
          ]
        }
      ]
    },
    {
      "cell_type": "code",
      "source": [
        "bnb.fit(X_train,y_train)\n",
        "y_pred3 = bnb.predict(X_test)\n",
        "print(accuracy_score(y_test,y_pred3))\n",
        "print(confusion_matrix(y_test,y_pred3))\n",
        "print(precision_score(y_test,y_pred3))"
      ],
      "metadata": {
        "colab": {
          "base_uri": "https://localhost:8080/"
        },
        "id": "eQxpxN_NYLRm",
        "outputId": "84c10044-04a0-481a-ed99-9d0de4f00e42"
      },
      "id": "eQxpxN_NYLRm",
      "execution_count": null,
      "outputs": [
        {
          "output_type": "stream",
          "name": "stdout",
          "text": [
            "0.89925\n",
            "[[ 439  275]\n",
            " [ 128 3158]]\n",
            "0.9198951354500436\n"
          ]
        }
      ]
    },
    {
      "cell_type": "code",
      "source": [
        "# Bnb tfidf"
      ],
      "metadata": {
        "id": "t-lErWuiYPD8"
      },
      "id": "t-lErWuiYPD8",
      "execution_count": null,
      "outputs": []
    },
    {
      "cell_type": "code",
      "source": [
        "from sklearn.linear_model import LogisticRegression\n",
        "from sklearn.svm import SVC\n",
        "from sklearn.naive_bayes import MultinomialNB\n",
        "from sklearn.tree import DecisionTreeClassifier\n",
        "from sklearn.neighbors import KNeighborsClassifier\n",
        "from sklearn.ensemble import RandomForestClassifier\n",
        "from sklearn.ensemble import ExtraTreesClassifier\n",
        "from sklearn.ensemble import GradientBoostingClassifier\n",
        "from xgboost import XGBClassifier"
      ],
      "metadata": {
        "id": "YNwSp7AU3jvZ"
      },
      "id": "YNwSp7AU3jvZ",
      "execution_count": null,
      "outputs": []
    },
    {
      "cell_type": "code",
      "source": [
        "svc = SVC(kernel='sigmoid', gamma=1.0)\n",
        "knc = KNeighborsClassifier()\n",
        "mnb = MultinomialNB()\n",
        "dtc = DecisionTreeClassifier(max_depth=5)\n",
        "lrc = LogisticRegression(solver='liblinear', penalty='l1')\n",
        "rfc = RandomForestClassifier(n_estimators=50, random_state=2)\n",
        "etc = ExtraTreesClassifier(n_estimators=50, random_state=2)\n",
        "gbdt = GradientBoostingClassifier(n_estimators=50,random_state=2)\n",
        "xgb = XGBClassifier(n_estimators=50,random_state=2)"
      ],
      "metadata": {
        "id": "fMWiTv4h3z3r"
      },
      "id": "fMWiTv4h3z3r",
      "execution_count": null,
      "outputs": []
    },
    {
      "cell_type": "code",
      "source": [
        "clfs = {\n",
        "    'SVC' : svc,\n",
        "    'KN' : knc, \n",
        "    'NB': mnb, \n",
        "    'DT': dtc, \n",
        "    'LR': lrc, \n",
        "    'RF': rfc, \n",
        "    'ETC': etc,\n",
        "    'GBDT':gbdt,\n",
        "    'xgb':xgb\n",
        "}"
      ],
      "metadata": {
        "id": "gDTeVOLx3-p0"
      },
      "id": "gDTeVOLx3-p0",
      "execution_count": null,
      "outputs": []
    },
    {
      "cell_type": "code",
      "source": [
        "def train_classifier(clf,X_train,y_train,X_test,y_test):\n",
        "    clf.fit(X_train,y_train)\n",
        "    y_pred = clf.predict(X_test)\n",
        "    accuracy = accuracy_score(y_test,y_pred)\n",
        "    precision = precision_score(y_test,y_pred)\n",
        "    \n",
        "    return accuracy,precision"
      ],
      "metadata": {
        "id": "5mIphLOF4Qh8"
      },
      "id": "5mIphLOF4Qh8",
      "execution_count": null,
      "outputs": []
    },
    {
      "cell_type": "code",
      "source": [
        "train_classifier(etc,X_train,y_train,X_test,y_test)\n"
      ],
      "metadata": {
        "colab": {
          "base_uri": "https://localhost:8080/"
        },
        "id": "Jy3wzkkd4VSQ",
        "outputId": "176fe6c5-727b-46ff-9d5d-8ff43e78487c"
      },
      "id": "Jy3wzkkd4VSQ",
      "execution_count": null,
      "outputs": [
        {
          "output_type": "execute_result",
          "data": {
            "text/plain": [
              "(0.937, 0.9636308068459658)"
            ]
          },
          "metadata": {},
          "execution_count": 60
        }
      ]
    },
    {
      "cell_type": "code",
      "source": [
        "train_classifier(gbdt,X_train,y_train,X_test,y_test)\n"
      ],
      "metadata": {
        "colab": {
          "base_uri": "https://localhost:8080/"
        },
        "id": "GvsxGlBrCIvu",
        "outputId": "d2f0f0be-9e92-459a-d222-3a6ffd957c2a"
      },
      "id": "GvsxGlBrCIvu",
      "execution_count": null,
      "outputs": [
        {
          "output_type": "execute_result",
          "data": {
            "text/plain": [
              "(0.855, 0.8551181102362204)"
            ]
          },
          "metadata": {},
          "execution_count": 63
        }
      ]
    },
    {
      "cell_type": "code",
      "source": [
        "accuracy_scores = []\n",
        "precision_scores = []\n",
        "\n",
        "for name,clf in clfs.items():\n",
        "    \n",
        "    current_accuracy,current_precision = train_classifier(clf, X_train,y_train,X_test,y_test)\n",
        "    \n",
        "    print(\"For \",name)\n",
        "    print(\"Accuracy - \",current_accuracy)\n",
        "    print(\"Precision - \",current_precision)\n",
        "    \n",
        "    accuracy_scores.append(current_accuracy)\n",
        "    precision_scores.append(current_precision)"
      ],
      "metadata": {
        "colab": {
          "base_uri": "https://localhost:8080/"
        },
        "id": "kB8lff5u7BZ9",
        "outputId": "88aab5cd-721e-4221-f70b-b29ff5264bc8"
      },
      "id": "kB8lff5u7BZ9",
      "execution_count": null,
      "outputs": [
        {
          "output_type": "stream",
          "name": "stdout",
          "text": [
            "For  SVC\n",
            "Accuracy -  0.93775\n",
            "Precision -  0.9418097177771312\n",
            "For  KN\n",
            "Accuracy -  0.8475\n",
            "Precision -  0.8452012383900929\n",
            "For  NB\n",
            "Accuracy -  0.87025\n",
            "Precision -  0.8651359197677487\n",
            "For  DT\n",
            "Accuracy -  0.84725\n",
            "Precision -  0.8474928552870875\n",
            "For  LR\n",
            "Accuracy -  0.935\n",
            "Precision -  0.9380428488708743\n",
            "For  RF\n",
            "Accuracy -  0.92975\n",
            "Precision -  0.9518796992481203\n",
            "For  ETC\n",
            "Accuracy -  0.937\n",
            "Precision -  0.9636308068459658\n",
            "For  GBDT\n",
            "Accuracy -  0.855\n",
            "Precision -  0.8551181102362204\n",
            "For  xgb\n",
            "Accuracy -  0.84775\n",
            "Precision -  0.8463130659767141\n"
          ]
        }
      ]
    },
    {
      "cell_type": "code",
      "source": [
        "performance_df = pd.DataFrame({'Algorithm':clfs.keys(),'Accuracy':accuracy_scores,'Precision':precision_scores}).sort_values('Precision',ascending=False)\n"
      ],
      "metadata": {
        "id": "lGMLDLwf_klY"
      },
      "id": "lGMLDLwf_klY",
      "execution_count": null,
      "outputs": []
    },
    {
      "cell_type": "code",
      "source": [
        "performance_df"
      ],
      "metadata": {
        "colab": {
          "base_uri": "https://localhost:8080/",
          "height": 331
        },
        "id": "jC7m-rXaLgAc",
        "outputId": "2e12138f-da16-44b6-f171-137100e4e206"
      },
      "id": "jC7m-rXaLgAc",
      "execution_count": null,
      "outputs": [
        {
          "output_type": "execute_result",
          "data": {
            "text/plain": [
              "  Algorithm  Accuracy  Precision\n",
              "6       ETC   0.93700   0.963631\n",
              "5        RF   0.92975   0.951880\n",
              "0       SVC   0.93775   0.941810\n",
              "4        LR   0.93500   0.938043\n",
              "2        NB   0.87025   0.865136\n",
              "7      GBDT   0.85500   0.855118\n",
              "3        DT   0.84725   0.847493\n",
              "8       xgb   0.84775   0.846313\n",
              "1        KN   0.84750   0.845201"
            ],
            "text/html": [
              "\n",
              "  <div id=\"df-eda8a2e5-d162-4b17-9377-d453efefb057\">\n",
              "    <div class=\"colab-df-container\">\n",
              "      <div>\n",
              "<style scoped>\n",
              "    .dataframe tbody tr th:only-of-type {\n",
              "        vertical-align: middle;\n",
              "    }\n",
              "\n",
              "    .dataframe tbody tr th {\n",
              "        vertical-align: top;\n",
              "    }\n",
              "\n",
              "    .dataframe thead th {\n",
              "        text-align: right;\n",
              "    }\n",
              "</style>\n",
              "<table border=\"1\" class=\"dataframe\">\n",
              "  <thead>\n",
              "    <tr style=\"text-align: right;\">\n",
              "      <th></th>\n",
              "      <th>Algorithm</th>\n",
              "      <th>Accuracy</th>\n",
              "      <th>Precision</th>\n",
              "    </tr>\n",
              "  </thead>\n",
              "  <tbody>\n",
              "    <tr>\n",
              "      <th>6</th>\n",
              "      <td>ETC</td>\n",
              "      <td>0.93700</td>\n",
              "      <td>0.963631</td>\n",
              "    </tr>\n",
              "    <tr>\n",
              "      <th>5</th>\n",
              "      <td>RF</td>\n",
              "      <td>0.92975</td>\n",
              "      <td>0.951880</td>\n",
              "    </tr>\n",
              "    <tr>\n",
              "      <th>0</th>\n",
              "      <td>SVC</td>\n",
              "      <td>0.93775</td>\n",
              "      <td>0.941810</td>\n",
              "    </tr>\n",
              "    <tr>\n",
              "      <th>4</th>\n",
              "      <td>LR</td>\n",
              "      <td>0.93500</td>\n",
              "      <td>0.938043</td>\n",
              "    </tr>\n",
              "    <tr>\n",
              "      <th>2</th>\n",
              "      <td>NB</td>\n",
              "      <td>0.87025</td>\n",
              "      <td>0.865136</td>\n",
              "    </tr>\n",
              "    <tr>\n",
              "      <th>7</th>\n",
              "      <td>GBDT</td>\n",
              "      <td>0.85500</td>\n",
              "      <td>0.855118</td>\n",
              "    </tr>\n",
              "    <tr>\n",
              "      <th>3</th>\n",
              "      <td>DT</td>\n",
              "      <td>0.84725</td>\n",
              "      <td>0.847493</td>\n",
              "    </tr>\n",
              "    <tr>\n",
              "      <th>8</th>\n",
              "      <td>xgb</td>\n",
              "      <td>0.84775</td>\n",
              "      <td>0.846313</td>\n",
              "    </tr>\n",
              "    <tr>\n",
              "      <th>1</th>\n",
              "      <td>KN</td>\n",
              "      <td>0.84750</td>\n",
              "      <td>0.845201</td>\n",
              "    </tr>\n",
              "  </tbody>\n",
              "</table>\n",
              "</div>\n",
              "      <button class=\"colab-df-convert\" onclick=\"convertToInteractive('df-eda8a2e5-d162-4b17-9377-d453efefb057')\"\n",
              "              title=\"Convert this dataframe to an interactive table.\"\n",
              "              style=\"display:none;\">\n",
              "        \n",
              "  <svg xmlns=\"http://www.w3.org/2000/svg\" height=\"24px\"viewBox=\"0 0 24 24\"\n",
              "       width=\"24px\">\n",
              "    <path d=\"M0 0h24v24H0V0z\" fill=\"none\"/>\n",
              "    <path d=\"M18.56 5.44l.94 2.06.94-2.06 2.06-.94-2.06-.94-.94-2.06-.94 2.06-2.06.94zm-11 1L8.5 8.5l.94-2.06 2.06-.94-2.06-.94L8.5 2.5l-.94 2.06-2.06.94zm10 10l.94 2.06.94-2.06 2.06-.94-2.06-.94-.94-2.06-.94 2.06-2.06.94z\"/><path d=\"M17.41 7.96l-1.37-1.37c-.4-.4-.92-.59-1.43-.59-.52 0-1.04.2-1.43.59L10.3 9.45l-7.72 7.72c-.78.78-.78 2.05 0 2.83L4 21.41c.39.39.9.59 1.41.59.51 0 1.02-.2 1.41-.59l7.78-7.78 2.81-2.81c.8-.78.8-2.07 0-2.86zM5.41 20L4 18.59l7.72-7.72 1.47 1.35L5.41 20z\"/>\n",
              "  </svg>\n",
              "      </button>\n",
              "      \n",
              "  <style>\n",
              "    .colab-df-container {\n",
              "      display:flex;\n",
              "      flex-wrap:wrap;\n",
              "      gap: 12px;\n",
              "    }\n",
              "\n",
              "    .colab-df-convert {\n",
              "      background-color: #E8F0FE;\n",
              "      border: none;\n",
              "      border-radius: 50%;\n",
              "      cursor: pointer;\n",
              "      display: none;\n",
              "      fill: #1967D2;\n",
              "      height: 32px;\n",
              "      padding: 0 0 0 0;\n",
              "      width: 32px;\n",
              "    }\n",
              "\n",
              "    .colab-df-convert:hover {\n",
              "      background-color: #E2EBFA;\n",
              "      box-shadow: 0px 1px 2px rgba(60, 64, 67, 0.3), 0px 1px 3px 1px rgba(60, 64, 67, 0.15);\n",
              "      fill: #174EA6;\n",
              "    }\n",
              "\n",
              "    [theme=dark] .colab-df-convert {\n",
              "      background-color: #3B4455;\n",
              "      fill: #D2E3FC;\n",
              "    }\n",
              "\n",
              "    [theme=dark] .colab-df-convert:hover {\n",
              "      background-color: #434B5C;\n",
              "      box-shadow: 0px 1px 3px 1px rgba(0, 0, 0, 0.15);\n",
              "      filter: drop-shadow(0px 1px 2px rgba(0, 0, 0, 0.3));\n",
              "      fill: #FFFFFF;\n",
              "    }\n",
              "  </style>\n",
              "\n",
              "      <script>\n",
              "        const buttonEl =\n",
              "          document.querySelector('#df-eda8a2e5-d162-4b17-9377-d453efefb057 button.colab-df-convert');\n",
              "        buttonEl.style.display =\n",
              "          google.colab.kernel.accessAllowed ? 'block' : 'none';\n",
              "\n",
              "        async function convertToInteractive(key) {\n",
              "          const element = document.querySelector('#df-eda8a2e5-d162-4b17-9377-d453efefb057');\n",
              "          const dataTable =\n",
              "            await google.colab.kernel.invokeFunction('convertToInteractive',\n",
              "                                                     [key], {});\n",
              "          if (!dataTable) return;\n",
              "\n",
              "          const docLinkHtml = 'Like what you see? Visit the ' +\n",
              "            '<a target=\"_blank\" href=https://colab.research.google.com/notebooks/data_table.ipynb>data table notebook</a>'\n",
              "            + ' to learn more about interactive tables.';\n",
              "          element.innerHTML = '';\n",
              "          dataTable['output_type'] = 'display_data';\n",
              "          await google.colab.output.renderOutput(dataTable, element);\n",
              "          const docLink = document.createElement('div');\n",
              "          docLink.innerHTML = docLinkHtml;\n",
              "          element.appendChild(docLink);\n",
              "        }\n",
              "      </script>\n",
              "    </div>\n",
              "  </div>\n",
              "  "
            ]
          },
          "metadata": {},
          "execution_count": 68
        }
      ]
    },
    {
      "cell_type": "code",
      "source": [
        "#ETC SELECTED AS OUR MODEL WITH 93% Accuracy and 96%precision\n",
        "#RF 92% accuracy & 95%precision"
      ],
      "metadata": {
        "id": "XIAfR-d0MaT1"
      },
      "id": "XIAfR-d0MaT1",
      "execution_count": null,
      "outputs": []
    },
    {
      "cell_type": "code",
      "source": [
        "etc.fit(X_train,y_train)\n",
        "y_pred = etc.predict(X_test)\n",
        "print(accuracy_score(y_test,y_pred))\n",
        "print(confusion_matrix(y_test,y_pred))\n",
        "print(precision_score(y_test,y_pred))"
      ],
      "metadata": {
        "colab": {
          "base_uri": "https://localhost:8080/"
        },
        "id": "Yx-ETskLUZzO",
        "outputId": "96c94559-87de-4350-f3ce-2533f5615dc3"
      },
      "id": "Yx-ETskLUZzO",
      "execution_count": null,
      "outputs": [
        {
          "output_type": "stream",
          "name": "stdout",
          "text": [
            "0.937\n",
            "[[ 595  119]\n",
            " [ 133 3153]]\n",
            "0.9636308068459658\n"
          ]
        }
      ]
    },
    {
      "cell_type": "code",
      "source": [
        "# import pickle\n",
        "# pickle.dump(tfidf,open('vectorizer.pkl','wb'))\n",
        "# pickle.dump(etc,open('model.pkl','wb'))\n"
      ],
      "metadata": {
        "id": "QHLR5917WlX3"
      },
      "id": "QHLR5917WlX3",
      "execution_count": null,
      "outputs": []
    }
  ],
  "metadata": {
    "kernelspec": {
      "display_name": "Python 3 (ipykernel)",
      "language": "python",
      "name": "python3"
    },
    "language_info": {
      "codemirror_mode": {
        "name": "ipython",
        "version": 3
      },
      "file_extension": ".py",
      "mimetype": "text/x-python",
      "name": "python",
      "nbconvert_exporter": "python",
      "pygments_lexer": "ipython3",
      "version": "3.11.1"
    },
    "colab": {
      "provenance": []
    },
    "accelerator": "GPU",
    "gpuClass": "standard"
  },
  "nbformat": 4,
  "nbformat_minor": 5
}